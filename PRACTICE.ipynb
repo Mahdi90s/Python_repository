{
 "cells": [
  {
   "cell_type": "code",
   "execution_count": 12,
   "metadata": {},
   "outputs": [
    {
     "name": "stdout",
     "output_type": "stream",
     "text": [
      "3\n"
     ]
    }
   ],
   "source": [
    "def Max_num(x):\n",
    "    return max(x)\n",
    "\n",
    "\n",
    "list = [1, 2, 3]\n",
    "result = Max_num(list)\n",
    "print(result)\n"
   ]
  },
  {
   "cell_type": "code",
   "execution_count": 15,
   "metadata": {},
   "outputs": [
    {
     "name": "stdout",
     "output_type": "stream",
     "text": [
      "5\n"
     ]
    }
   ],
   "source": [
    "def max_n(a, b, c):\n",
    "    if a >= b:\n",
    "        return a\n",
    "    elif b >= a and b >= c:\n",
    "        return b\n",
    "    else:\n",
    "        return c\n",
    "    \n",
    "\n",
    "result = max_n(1, 3, 5)\n",
    "print(result)    "
   ]
  },
  {
   "cell_type": "code",
   "execution_count": 3,
   "metadata": {},
   "outputs": [
    {
     "name": "stdout",
     "output_type": "stream",
     "text": [
      "False\n",
      "False\n",
      "True\n"
     ]
    }
   ],
   "source": [
    "def is_prime(x):\n",
    "    if x < 2:\n",
    "        return False\n",
    "    for i in range(2, int(x ** 0.5) + 1):\n",
    "        if x % i == 0:\n",
    "            return False\n",
    "    return True\n",
    "\n",
    "print (is_prime(8))\n",
    "print (is_prime(15))\n",
    "print (is_prime(3))"
   ]
  },
  {
   "cell_type": "code",
   "execution_count": 5,
   "metadata": {},
   "outputs": [
    {
     "name": "stdout",
     "output_type": "stream",
     "text": [
      "[0, 1, 1, 2, 3]\n"
     ]
    }
   ],
   "source": [
    "def fibonacci(x):\n",
    "    if x <= 0:\n",
    "        return []\n",
    "    elif x == 1:\n",
    "        return [0]\n",
    "    elif x == 2:\n",
    "        return [0, 1]\n",
    "    \n",
    "    fibo = [0, 1]\n",
    "    while len(fibo) < x:\n",
    "        n_num = fibo[-1] + fibo[-2]\n",
    "        fibo.append(n_num)\n",
    "    return fibo\n",
    "\n",
    "print (fibonacci(5))\n",
    "    \n",
    "    "
   ]
  },
  {
   "cell_type": "code",
   "execution_count": 10,
   "metadata": {},
   "outputs": [
    {
     "name": "stdout",
     "output_type": "stream",
     "text": [
      "\n",
      "Total: $996.0\n",
      "lksdjljsd\n",
      "b:\n",
      "- kjhsdfkjfh: $58.0\n",
      "- lksdjljsd: $938.0\n"
     ]
    }
   ],
   "source": [
    "list_of_expenses = {}\n",
    "\n",
    "while True:\n",
    "    entry = input('what are your expenses, or type \"done\" to exit')\n",
    "    if entry.lower() == 'done':\n",
    "        break\n",
    "    \n",
    "    try:\n",
    "        category, amount = entry.split()\n",
    "        amount = float(amount)\n",
    "        if category in list_of_expenses:\n",
    "            list_of_expenses[category] += amount\n",
    "        else:\n",
    "            list_of_expenses[category] = amount\n",
    "            \n",
    "    except:\n",
    "        print(\"invalid data\")\n",
    "        \n",
    "        \n",
    "tot = sum(list_of_expenses.values())\n",
    "print(f\"\\nTotal: ${tot}\")\n",
    "\n",
    "highest_category = max(list_of_expenses, key=list_of_expenses.get)\n",
    "print(highest_category)\n",
    "\n",
    "print(\"b:\")\n",
    "for category, amount in list_of_expenses.items():\n",
    "    print (f\"- {category}: ${amount}\")"
   ]
  },
  {
   "cell_type": "code",
   "execution_count": 6,
   "metadata": {},
   "outputs": [
    {
     "data": {
      "text/plain": [
       "['e', 'g', 'g', ' ', '3', '0']"
      ]
     },
     "execution_count": 6,
     "metadata": {},
     "output_type": "execute_result"
    }
   ],
   "source": [
    "list_of_expenses"
   ]
  }
 ],
 "metadata": {
  "kernelspec": {
   "display_name": "base",
   "language": "python",
   "name": "python3"
  },
  "language_info": {
   "codemirror_mode": {
    "name": "ipython",
    "version": 3
   },
   "file_extension": ".py",
   "mimetype": "text/x-python",
   "name": "python",
   "nbconvert_exporter": "python",
   "pygments_lexer": "ipython3",
   "version": "3.12.4"
  }
 },
 "nbformat": 4,
 "nbformat_minor": 2
}
