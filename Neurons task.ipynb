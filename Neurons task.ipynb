{
 "cells": [
  {
   "cell_type": "code",
   "execution_count": 10,
   "id": "3d7fe1ea-b2a2-460d-9184-e8e590e74cba",
   "metadata": {},
   "outputs": [],
   "source": [
    "import numpy as np\n",
    "\n",
    "class neuron:\n",
    "    def __init__(self):\n",
    "        self.bais = 0\n",
    "    def activation(self, z):\n",
    "        return 1 / (1 + np.exp(-0.5 * z))\n",
    "    def forward(self, inputs):\n",
    "        return self.activation(inputs)"
   ]
  },
  {
   "cell_type": "code",
   "execution_count": 42,
   "id": "08d74803-0640-49f4-baa9-bc3416b0fceb",
   "metadata": {},
   "outputs": [
    {
     "name": "stdout",
     "output_type": "stream",
     "text": [
      "inputs 1 2\n",
      "Weights {'w_x1_h1': 0.1, 'w_x1_h2': 0.2, 'w_x2_h1': 0.3, 'w_x2_h2': 0.4}\n"
     ]
    }
   ],
   "source": [
    "x1 = 1\n",
    "x2 = 2\n",
    "\n",
    "weights = {\n",
    "    'w_x1_h1': 0.1,\n",
    "    'w_x1_h2': 0.2,\n",
    "    'w_x2_h1': 0.3,\n",
    "    'w_x2_h2': 0.4\n",
    "}\n",
    "print (\"inputs\", x1,x2)\n",
    "print (\"Weights\", weights)"
   ]
  },
  {
   "cell_type": "code",
   "execution_count": 127,
   "id": "c25a4b4d-5ef7-4548-b141-b7c06e316e10",
   "metadata": {},
   "outputs": [
    {
     "name": "stdout",
     "output_type": "stream",
     "text": [
      "0.4\n",
      "0.6000000000000001\n"
     ]
    }
   ],
   "source": [
    "h1_input = (x1 * weights['w_x1_h1'] + x1 * weights['w_x2_h1'])\n",
    "h2_input = (x1 * weights['w_x1_h2'] + x1 * weights['w_x2_h2'])\n",
    "\n",
    "print (h1_input)\n",
    "print (h2_input)"
   ]
  },
  {
   "cell_type": "code",
   "execution_count": 20,
   "id": "1244992c-6fbd-4b32-a724-abba01515bdb",
   "metadata": {},
   "outputs": [
    {
     "name": "stdout",
     "output_type": "stream",
     "text": [
      "h1_output: 0.549833997312478\n",
      "h2_output: 0.574442516811659\n"
     ]
    }
   ],
   "source": [
    "def sigmoid(z):\n",
    "    return 1 / (1 + np.exp(-0.5 * z))\n",
    "\n",
    "h1_output = sigmoid(h1_input)\n",
    "h2_output = sigmoid(h2_input)\n",
    "\n",
    "print ('h1_output:', h1_output)\n",
    "print ('h2_output:', h2_output)"
   ]
  },
  {
   "cell_type": "code",
   "execution_count": 22,
   "id": "8584bc8a-830c-4df0-a800-9c81d9717fc1",
   "metadata": {},
   "outputs": [
    {
     "name": "stdout",
     "output_type": "stream",
     "text": [
      "y1 input: 0.2273161547747455\n",
      "y2 input: 0.3397438061871592\n"
     ]
    }
   ],
   "source": [
    "w_h1y1 = 0.1\n",
    "w_h1y2 = 0.2\n",
    "w_h2y1 = 0.3\n",
    "w_h2y2 = 0.4\n",
    "\n",
    "y1_input = (h1_output * w_h1y1) + (h2_output * w_h2y1)\n",
    "y2_input = (h1_output * w_h1y2) + (h2_output * w_h2y2)\n",
    "\n",
    "print (\"y1 input:\", y1_input)\n",
    "print (\"y2 input:\", y2_input)"
   ]
  },
  {
   "cell_type": "code",
   "execution_count": 24,
   "id": "84fa18ed-ac51-4218-9438-e0176abe5662",
   "metadata": {},
   "outputs": [
    {
     "name": "stdout",
     "output_type": "stream",
     "text": [
      "Error for y1: -0.2273161547747455\n",
      "Error for y2: 0.6602561938128408\n",
      "Mean Squard Error: 0.24380543784489783\n"
     ]
    }
   ],
   "source": [
    "y1_actual = 0\n",
    "y2_actual = 1\n",
    "\n",
    "y1_predicted = y1_input\n",
    "y2_predicted = y2_input\n",
    "\n",
    "error1 = y1_actual - y1_predicted\n",
    "error2 = y2_actual - y2_predicted\n",
    "\n",
    "mse = 0.5 * (error1**2 + error2**2)\n",
    "\n",
    "print(\"Error for y1:\", error1)\n",
    "print(\"Error for y2:\", error2)\n",
    "print (\"Mean Squard Error:\", mse)"
   ]
  },
  {
   "cell_type": "code",
   "execution_count": 88,
   "id": "d8981c7b-6039-4d68-a3fc-da7071281697",
   "metadata": {},
   "outputs": [
    {
     "name": "stdout",
     "output_type": "stream",
     "text": [
      "g1: -0.031941287762596374\n",
      "g2: 0.11848585393515987\n"
     ]
    }
   ],
   "source": [
    "u = 0.8\n",
    "\n",
    "Gradients = {\n",
    "    'g1' : u * error1 * (y1_input * (1 - y1_input)), \n",
    "    'g2' : u * error2 * (y2_input * (1 - y2_input))\n",
    "}\n",
    "for gradient in Gradients:\n",
    "    print (f\"{gradient}: {Gradients[gradient]}\")\n"
   ]
  },
  {
   "cell_type": "code",
   "execution_count": 90,
   "id": "fab93b16-3a02-4548-b966-8fe5db6fa3b0",
   "metadata": {},
   "outputs": [
    {
     "name": "stdout",
     "output_type": "stream",
     "text": [
      "n_w_h1y1: -0.0140499247438532\n",
      "n_w_h1y2: -0.014678746986041045\n",
      "n_w_h2y1: 0.05211804055532108\n",
      "n_w_h2y2: 0.05445064971287348\n"
     ]
    }
   ],
   "source": [
    "#New Weight\n",
    "new_weights ={\n",
    "'n_w_h1y1' : u * g1 * h1_output,\n",
    "'n_w_h1y2' : u * g1 * h2_output,\n",
    "'n_w_h2y1' : u * g2 * h1_output,\n",
    "'n_w_h2y2' : u * g2 * h2_output\n",
    "}\n",
    "for new_weight in new_weights:\n",
    "    print (f\"{new_weight}: {new_weights[new_weight]}\")\n"
   ]
  },
  {
   "cell_type": "code",
   "execution_count": 92,
   "id": "f9b6da4d-24e8-466a-949d-8c2abf361fcb",
   "metadata": {},
   "outputs": [
    {
     "name": "stdout",
     "output_type": "stream",
     "text": [
      "u_n_w_h1y1: 0.08595007525614681\n",
      "u_n_w_h1y2: 0.18532125301395896\n",
      "u_n_w_h2y1: 0.3521180405553211\n",
      "u_n_w_h2y2: 0.4544506497128735\n"
     ]
    }
   ],
   "source": [
    "# Update the Weight \n",
    "U_new_weights = {\n",
    "'u_n_w_h1y1' : n_w_h1y1 + w_h1y1,\n",
    "'u_n_w_h1y2' : n_w_h1y2 + w_h1y2,\n",
    "'u_n_w_h2y1' : n_w_h2y1 + w_h2y1,\n",
    "'u_n_w_h2y2' : n_w_h2y2 + w_h2y2\n",
    "}\n",
    "for u_new_weight in U_new_weights:\n",
    "    print (f\"{u_new_weight}: {U_new_weights[u_new_weight]}\")"
   ]
  },
  {
   "cell_type": "code",
   "execution_count": 102,
   "id": "d2fe613a-5100-472f-9752-71f2bc614877",
   "metadata": {},
   "outputs": [
    {
     "name": "stdout",
     "output_type": "stream",
     "text": [
      "g_h1: -0.0018398181751255512\n",
      "g_h2: 0.015924498768885485\n"
     ]
    }
   ],
   "source": [
    "g_hiddens = {\n",
    "'g_h1' : u * (h1_input * (1 - h1_input)) * ((g1 * w_h1y1) + (g1 * w_h1y2)),\n",
    "'g_h2' : u * (h2_input * (1 - h2_input)) * ((g2 * w_h2y1) + (g2 * w_h2y2))\n",
    "}\n",
    "for g_hidden in g_hiddens:\n",
    "    print (f\"{g_hidden}: {g_hiddens[g_hidden]}\")"
   ]
  },
  {
   "cell_type": "code",
   "execution_count": 112,
   "id": "9e388122-8c09-4d5d-8246-ed5a007488f6",
   "metadata": {},
   "outputs": [
    {
     "name": "stdout",
     "output_type": "stream",
     "text": [
      "n_w_x1_h1: -0.01022121208403084\n",
      "n_w_x1_h2: -0.015331818126046262\n",
      "n_w_x2_h1: 0.03791547325925116\n",
      "n_w_x2_h2: 0.056873209888876744\n"
     ]
    }
   ],
   "source": [
    "#New Weight between input and hidden\n",
    "n_weights_IH = {\n",
    "'n_w_x1_h1' : u * g1 * h1_input,\n",
    "'n_w_x1_h2' : u * g1 * h2_input,\n",
    "'n_w_x2_h1' : u * g2 * h1_input,\n",
    "'n_w_x2_h2' : u * g2 * h2_input\n",
    "}\n",
    "\n",
    "for n_weight_IH in n_weights_IH:\n",
    "    print(f\"{n_weight_IH}: {n_weights_IH[n_weight_IH]}\")"
   ]
  },
  {
   "cell_type": "code",
   "execution_count": 147,
   "id": "64f9207a-3144-4412-8927-fa1780a541dc",
   "metadata": {},
   "outputs": [
    {
     "name": "stdout",
     "output_type": "stream",
     "text": [
      "{'u_n_w_x1_h1': 0.08977878791596916, 'u_n_w_x1_h2': 0.18466818187395376, 'u_n_w_x2_h1': 0.33791547325925114, 'u_n_w_x2_h2': 0.45687320988887675}\n"
     ]
    }
   ],
   "source": [
    "# Update weight \n",
    "n_w_values = {\n",
    "    'n_w_x1_h1': n_w_x1_h1,\n",
    "    'n_w_x1_h2': n_w_x1_h2,\n",
    "    'n_w_x2_h1': n_w_x2_h1,\n",
    "    'n_w_x2_h2': n_w_x2_h2\n",
    "}\n",
    "\n",
    "update_weighs = {}\n",
    "\n",
    "\n",
    "for key, n_w_value in n_w_values.items():\n",
    "    weight_key = key.replace('n_', '')\n",
    "    update_wihs[f'u_{key}'] = n_w_value + weights[weight_key]\n",
    "\n",
    "print(update_wihs)"
   ]
  }
 ],
 "metadata": {
  "kernelspec": {
   "display_name": "Python 3 (ipykernel)",
   "language": "python",
   "name": "python3"
  },
  "language_info": {
   "codemirror_mode": {
    "name": "ipython",
    "version": 3
   },
   "file_extension": ".py",
   "mimetype": "text/x-python",
   "name": "python",
   "nbconvert_exporter": "python",
   "pygments_lexer": "ipython3",
   "version": "3.12.4"
  }
 },
 "nbformat": 4,
 "nbformat_minor": 5
}
