{
 "cells": [
  {
   "cell_type": "code",
   "execution_count": 3,
   "id": "795bdb7b-f49e-4f38-abf1-0650bd0b8663",
   "metadata": {},
   "outputs": [
    {
     "name": "stdout",
     "output_type": "stream",
     "text": [
      "[1.0000,0.1000,0.1250,0.3250]\n"
     ]
    }
   ],
   "source": [
    "import numpy as np\n",
    "\n",
    "def rescale(x):\n",
    "    max_value = np.max(x) \n",
    "\n",
    "    if max_value != 0:\n",
    "        return x / max_value  \n",
    "    else:\n",
    "        return x\n",
    "\n",
    "\n",
    "x = np.array([4, 0.4, 0.5, 1.3])\n",
    "xn = rescale(x)\n",
    "\n",
    "print(np.array2string(xn, formatter={'float_kind':'{:0.4f}'.format}, separator=','))"
   ]
  }
 ],
 "metadata": {
  "kernelspec": {
   "display_name": "Python 3 (ipykernel)",
   "language": "python",
   "name": "python3"
  },
  "language_info": {
   "codemirror_mode": {
    "name": "ipython",
    "version": 3
   },
   "file_extension": ".py",
   "mimetype": "text/x-python",
   "name": "python",
   "nbconvert_exporter": "python",
   "pygments_lexer": "ipython3",
   "version": "3.12.4"
  }
 },
 "nbformat": 4,
 "nbformat_minor": 5
}
