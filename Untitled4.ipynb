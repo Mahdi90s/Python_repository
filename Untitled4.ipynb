{
 "cells": [
  {
   "cell_type": "code",
   "execution_count": 1,
   "id": "563ec44d-aa1d-47ef-ab20-de1240526dc0",
   "metadata": {},
   "outputs": [
    {
     "name": "stderr",
     "output_type": "stream",
     "text": [
      "2024-11-18 21:53:06.952838: I external/local_xla/xla/tsl/cuda/cudart_stub.cc:32] Could not find cuda drivers on your machine, GPU will not be used.\n",
      "2024-11-18 21:53:06.965109: I external/local_xla/xla/tsl/cuda/cudart_stub.cc:32] Could not find cuda drivers on your machine, GPU will not be used.\n",
      "2024-11-18 21:53:07.001781: E external/local_xla/xla/stream_executor/cuda/cuda_fft.cc:477] Unable to register cuFFT factory: Attempting to register factory for plugin cuFFT when one has already been registered\n",
      "WARNING: All log messages before absl::InitializeLog() is called are written to STDERR\n",
      "E0000 00:00:1731966787.073201   12406 cuda_dnn.cc:8310] Unable to register cuDNN factory: Attempting to register factory for plugin cuDNN when one has already been registered\n",
      "E0000 00:00:1731966787.088820   12406 cuda_blas.cc:1418] Unable to register cuBLAS factory: Attempting to register factory for plugin cuBLAS when one has already been registered\n",
      "2024-11-18 21:53:07.142173: I tensorflow/core/platform/cpu_feature_guard.cc:210] This TensorFlow binary is optimized to use available CPU instructions in performance-critical operations.\n",
      "To enable the following instructions: AVX2, in other operations, rebuild TensorFlow with the appropriate compiler flags.\n"
     ]
    }
   ],
   "source": [
    "from keras.datasets import mnist"
   ]
  },
  {
   "cell_type": "code",
   "execution_count": null,
   "id": "04e5ea8f-e70d-4544-86e2-80a044657f38",
   "metadata": {},
   "outputs": [],
   "source": [
    "(train_X, train_y), (test_X, test_y) = mnist.load_data()"
   ]
  },
  {
   "cell_type": "code",
   "execution_count": null,
   "id": "050cc8de-8b84-415a-8368-b3efe3d026d8",
   "metadata": {},
   "outputs": [
    {
     "name": "stdout",
     "output_type": "stream",
     "text": [
      "X_train: (60000, 28, 28)\n",
      "Y_train: (60000,)\n",
      "X_test:  (10000, 28, 28)\n",
      "Y_test:  (10000,)\n"
     ]
    }
   ],
   "source": [
    "print('X_train: ' + str(train_X.shape))\n",
    "print('Y_train: ' + str(train_y.shape))\n",
    "print('X_test:  '  + str(test_X.shape))\n",
    "print('Y_test:  '  + str(test_y.shape))"
   ]
  },
  {
   "cell_type": "code",
   "execution_count": 9,
   "id": "8759eec5-94de-420e-9552-381a9f11401e",
   "metadata": {},
   "outputs": [
    {
     "name": "stdout",
     "output_type": "stream",
     "text": [
      "X_train: (60000, 28, 28)\n",
      "Y_train: (60000,)\n",
      "X_test:  (10000, 28, 28)\n",
      "Y_test:  (10000,)\n"
     ]
    }
   ],
   "source": [
    "from keras.datasets import mnist\n",
    "\n",
    "#loading the dataset\n",
    "(train_X, train_y), (test_X, test_y) = mnist.load_data()\n",
    "\n",
    "#printing the shapes of the vectors \n",
    "print('X_train: ' + str(train_X.shape))\n",
    "print('Y_train: ' + str(train_y.shape))\n",
    "print('X_test:  '  + str(test_X.shape))\n",
    "print('Y_test:  '  + str(test_y.shape))"
   ]
  },
  {
   "cell_type": "code",
   "execution_count": 11,
   "id": "69543e7d-73c9-4cfc-8d9f-d0890f50ead9",
   "metadata": {},
   "outputs": [
    {
     "ename": "IndentationError",
     "evalue": "expected an indented block after 'for' statement on line 2 (955722700.py, line 3)",
     "output_type": "error",
     "traceback": [
      "\u001b[0;36m  Cell \u001b[0;32mIn[11], line 3\u001b[0;36m\u001b[0m\n\u001b[0;31m    pyplot.subplot(330 + 1 + i)\u001b[0m\n\u001b[0m    ^\u001b[0m\n\u001b[0;31mIndentationError\u001b[0m\u001b[0;31m:\u001b[0m expected an indented block after 'for' statement on line 2\n"
     ]
    }
   ],
   "source": [
    "from matplotlib import pyplot\n",
    "for i in range(9):  \n",
    "pyplot.subplot(330 + 1 + i)\n",
    "pyplot.imshow(train_X[i], cmap=pyplot.get_cmap('gray'))\n",
    "pyplot.show()"
   ]
  },
  {
   "cell_type": "code",
   "execution_count": 5,
   "id": "f603a753-7f52-482f-a7ae-e4b573f8f6b5",
   "metadata": {},
   "outputs": [
    {
     "name": "stdout",
     "output_type": "stream",
     "text": [
      "3\n"
     ]
    }
   ],
   "source": [
    "def add_numbers (a, b):\n",
    "    return a + b\n",
    "\n",
    "result = add_numbers(1, 2)\n",
    "print (result)"
   ]
  },
  {
   "cell_type": "code",
   "execution_count": 23,
   "id": "3757e170-a416-4813-a1ae-91fb2ec887d1",
   "metadata": {},
   "outputs": [
    {
     "name": "stdout",
     "output_type": "stream",
     "text": [
      "[1, 4, 9, 16]\n"
     ]
    }
   ],
   "source": [
    "def multiply_elements (input):\n",
    "    output = []\n",
    "    for num in input:\n",
    "        output.append(num ** 2)\n",
    "    return output\n",
    "\n",
    "input = [1, 2, 3, 4]\n",
    "print (multiply_elements (input))"
   ]
  },
  {
   "cell_type": "code",
   "execution_count": 27,
   "id": "cdd33544-4a50-4bfd-aae2-306f5b952d26",
   "metadata": {},
   "outputs": [
    {
     "name": "stdout",
     "output_type": "stream",
     "text": [
      "[2, 4, 6, 8]\n"
     ]
    }
   ],
   "source": [
    "def list_a(all_input):\n",
    "    even_list = []\n",
    "    for num in all_input:\n",
    "        if num % 2 == 0:  # Check if the number is even\n",
    "            even_list.append(num)  # Append the even number\n",
    "    return even_list\n",
    "\n",
    "all_input = [1, 2, 3, 4, 5, 6, 7, 8, 9]\n",
    "print(list_a(all_input))\n"
   ]
  },
  {
   "cell_type": "code",
   "execution_count": 37,
   "id": "55a9ece2-e54f-463b-ad1b-3f7ec6f35db0",
   "metadata": {},
   "outputs": [
    {
     "name": "stdout",
     "output_type": "stream",
     "text": [
      "[1, 2, 3, 36, 49, 4]\n"
     ]
    }
   ],
   "source": [
    "def list_a (input):\n",
    "    squard_list = []\n",
    "    for num in input:\n",
    "        if num > 5:\n",
    "            squard_list.append(num ** 2)\n",
    "        else:\n",
    "            squard_list.append(num)\n",
    "    return squard_list\n",
    "\n",
    "input = [1, 2, 3, 6, 7, 4]\n",
    "print (list_a (input))"
   ]
  },
  {
   "cell_type": "code",
   "execution_count": 43,
   "id": "ee807128-74bb-4ba2-8c39-bda064708ffc",
   "metadata": {},
   "outputs": [
    {
     "name": "stdout",
     "output_type": "stream",
     "text": [
      "[1, 'Fizz', 'Buzz', 'FizzBuzz', 7, 'Fizz', 'Buzz']\n"
     ]
    }
   ],
   "source": [
    "def list_a(input):\n",
    "    list_b = []\n",
    "    for num in input:\n",
    "        if num % 3 == 0 and num % 5 == 0:\n",
    "            list_b.append(\"FizzBuzz\")\n",
    "        elif num % 3 == 0:\n",
    "            list_b.append(\"Fizz\")\n",
    "        elif num % 5 == 0:\n",
    "            list_b.append(\"Buzz\")\n",
    "        else:\n",
    "            list_b.append(num)    \n",
    "    return list_b\n",
    "\n",
    "input = [1, 3, 5, 15, 7, 9, 10]\n",
    "print(list_a(input))\n"
   ]
  },
  {
   "cell_type": "code",
   "execution_count": 57,
   "id": "019bf1e5-be24-4f9c-97b6-b14115d03570",
   "metadata": {},
   "outputs": [
    {
     "name": "stdout",
     "output_type": "stream",
     "text": [
      "[1, 2, 3]\n"
     ]
    }
   ],
   "source": [
    "def find_duplicate (input):\n",
    "    output_list = []\n",
    "    seen = set()\n",
    "    for num in input:\n",
    "        if input.count(num) > 1 and num not in seen:\n",
    "            output_list.append(num)\n",
    "            seen.add(num)\n",
    "    return output_list\n",
    "\n",
    "input = [1, 2, 3, 4, 5, 6, 7, 8, 1, 2, 3]\n",
    "print  (find_duplicate (input))\n"
   ]
  },
  {
   "cell_type": "markdown",
   "id": "c8b3f130-0dbc-4e25-a8b6-c93fbcb6edc7",
   "metadata": {},
   "source": [
    "kjdhfkjsdhfhlkshdfkj\n"
   ]
  },
  {
   "cell_type": "code",
   "execution_count": null,
   "id": "f5ac13ba-f263-43c8-8271-e9efa6de00ac",
   "metadata": {},
   "outputs": [],
   "source": []
  },
  {
   "cell_type": "code",
   "execution_count": null,
   "id": "f371efd7-dec7-4bd9-995b-0bab54c1ef48",
   "metadata": {},
   "outputs": [],
   "source": []
  },
  {
   "cell_type": "code",
   "execution_count": null,
   "id": "4fab5747-4736-4263-9ee9-9ca579ff29a7",
   "metadata": {},
   "outputs": [],
   "source": []
  },
  {
   "cell_type": "code",
   "execution_count": null,
   "id": "a144a257-c520-4e3b-b7bd-0f3a3c62e115",
   "metadata": {},
   "outputs": [],
   "source": []
  }
 ],
 "metadata": {
  "kernelspec": {
   "display_name": "base",
   "language": "python",
   "name": "python3"
  },
  "language_info": {
   "codemirror_mode": {
    "name": "ipython",
    "version": 3
   },
   "file_extension": ".py",
   "mimetype": "text/x-python",
   "name": "python",
   "nbconvert_exporter": "python",
   "pygments_lexer": "ipython3",
   "version": "3.12.4"
  }
 },
 "nbformat": 4,
 "nbformat_minor": 5
}
