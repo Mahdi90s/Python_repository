{
 "cells": [
  {
   "cell_type": "markdown",
   "metadata": {},
   "source": [
    "# Introduction to Python\n",
    "\n",
    "This notebook will serve as a introductionary guide to those of you who would like to gain a basic understanding of how to program in Python. A number of topics have been chosen, all of which will help you complete your assignments. These include:\n",
    "\n",
    "1. [Python Variables](#Python-Variables)\n",
    "2. [Import Statements](#Import-Statements)\n",
    "3. [Loops](#Loops)\n",
    "4. [Functions](#Functions)\n",
    "5. [Lists](#Lists)\n",
    "6. [Classes](#Classes)\n",
    "\n",
    "Each of these topics will be discussed and you should refer back to this notebook if you find yourself unsure of how to proceed with your assignments."
   ]
  },
  {
   "cell_type": "markdown",
   "metadata": {},
   "source": [
    "## <a id='Python-Variables'>1. Python Variables<a>"
   ]
  },
  {
   "cell_type": "markdown",
   "metadata": {},
   "source": [
    "There are a number of data types which are available to us in python; some of these include:\n",
    "\n",
    "* Numeric\n",
    "    * Integer\n",
    "    * Float\n",
    "    * Complex Number\n",
    "* Boolean\n",
    "    * bool (true, false)\n",
    "    \n",
    "For more information on data type revisit the lab slides for week 1 (slide 3)"
   ]
  },
  {
   "cell_type": "markdown",
   "metadata": {},
   "source": [
    "We can assign values to variables which allows us to store that value and reuse it when it is required.\n",
    "To assign a variable we use the equal sign (=). The operand that preceeds the = operator is the name of our variable, the operand after the = operator is the value stored in the variable. "
   ]
  },
  {
   "cell_type": "code",
   "execution_count": 1,
   "metadata": {},
   "outputs": [
    {
     "name": "stdout",
     "output_type": "stream",
     "text": [
      "10\n",
      "Slow\n",
      "True\n"
     ]
    }
   ],
   "source": [
    "counter = 10                #integer assignment\n",
    "membershipName = \"Slow\"     #String assignment\n",
    "isTrue = True               #Boolean assignment\n",
    "\n",
    "print(counter)\n",
    "print(membershipName)\n",
    "print(isTrue)"
   ]
  },
  {
   "cell_type": "markdown",
   "metadata": {},
   "source": [
    "## <a id='Import-Statements'>2. Import Statements<a>"
   ]
  },
  {
   "cell_type": "markdown",
   "metadata": {},
   "source": [
    "Import statements in python allow us seach for and include packages from pre-built standard python libraries.\n",
    "\n",
    "These packages in the libraries allow us to make use of a very extensive range of facilities, including built in constants (i.e. Pi) and functions (random number generation).\n",
    "\n",
    "For a list of all standard python libraries, please follow this link: https://docs.python.org/3/library/index.html\n",
    "\n",
    "To import these libraries we use the keyword 'import' followed by the name of the library we would like to import. For example:"
   ]
  },
  {
   "cell_type": "code",
   "execution_count": 2,
   "metadata": {},
   "outputs": [
    {
     "name": "stdout",
     "output_type": "stream",
     "text": [
      "3.141592653589793\n",
      "11\n"
     ]
    }
   ],
   "source": [
    "import math\n",
    "import random\n",
    "\n",
    "pi = math.pi\n",
    "print(pi)\n",
    "\n",
    "randomNum = random.randint(5, 15) #assign a random integer value between 5 and 15 to the variable randomNum\n",
    "print(randomNum)\n"
   ]
  },
  {
   "cell_type": "markdown",
   "metadata": {},
   "source": [
    "## <a id='Loops'>3. Loops<a>"
   ]
  },
  {
   "cell_type": "markdown",
   "metadata": {},
   "source": [
    "Loops act as control structures which allow us to introduce more complicated execution paths, rather than a series of statements that execute sequentially.\n",
    "\n",
    "There are a number of different loops which are supported by python, these include:\n",
    "\n",
    "* While loops\n",
    "* For loops\n",
    "* Nested Loops"
   ]
  },
  {
   "cell_type": "markdown",
   "metadata": {},
   "source": [
    "### While Loops\n",
    "\n",
    "While loops repeat a statement or group of statements while a given condition is True. The loop tests the condition before executing the loop body. For example:"
   ]
  },
  {
   "cell_type": "code",
   "execution_count": 3,
   "metadata": {},
   "outputs": [
    {
     "name": "stdout",
     "output_type": "stream",
     "text": [
      "1\n",
      "2\n",
      "3\n",
      "4\n",
      "5\n",
      "6\n",
      "7\n",
      "8\n",
      "9\n",
      "10\n"
     ]
    }
   ],
   "source": [
    "i = 0 #integer assignment\n",
    "\n",
    "while(i < 10):      #Loop Condition\n",
    "    i+=1            #Incrementing our integer value\n",
    "    print(i)"
   ]
  },
  {
   "cell_type": "markdown",
   "metadata": {},
   "source": [
    "### For Loops\n",
    "\n",
    "For loops execute a sequence of statements multiple times using dynamic conditional statements. For example:"
   ]
  },
  {
   "cell_type": "code",
   "execution_count": 4,
   "metadata": {},
   "outputs": [
    {
     "name": "stdout",
     "output_type": "stream",
     "text": [
      "Current Letter : P\n",
      "Current Letter : y\n",
      "Current Letter : t\n",
      "Current Letter : h\n",
      "Current Letter : o\n",
      "Current Letter : n\n",
      "\n",
      "Current fruit : banana\n",
      "Current fruit : apple\n",
      "Current fruit : mango\n"
     ]
    }
   ],
   "source": [
    "for letter in 'Python':     # traversal of a string sequence\n",
    "   print ('Current Letter :', letter)\n",
    "print()\n",
    "fruits = ['banana', 'apple',  'mango'] #list assignment (will look at in more detail)\n",
    "\n",
    "for fruit in fruits:        # traversal of List sequence\n",
    "   print ('Current fruit :', fruit)\n"
   ]
  },
  {
   "cell_type": "markdown",
   "metadata": {},
   "source": [
    "### Nested Loops\n",
    "\n",
    "Python supports the use of one or more loops inside one another (while or for). For example:"
   ]
  },
  {
   "cell_type": "code",
   "execution_count": 5,
   "metadata": {},
   "outputs": [
    {
     "name": "stdout",
     "output_type": "stream",
     "text": [
      "1\n",
      "2\n",
      "3\n",
      "4\n"
     ]
    }
   ],
   "source": [
    "firstList = [1, 2]\n",
    "secondList = [3, 4]\n",
    "masterList = [firstList, secondList]\n",
    "\n",
    "for sets in masterList:\n",
    "    #print(sets)         #when uncommented you will see that this print statement show us the individual lists inside masterList\n",
    "    for numbers in sets:\n",
    "        print(numbers)"
   ]
  },
  {
   "cell_type": "markdown",
   "metadata": {},
   "source": [
    "There are a number of loop control statements that change the execution of a loop from the its normal sequence. These control statements include:\n",
    "\n",
    "* break statement:\n",
    "    \n",
    "        This terminates the loop statement and transfers execution to the statement immediately following the loop\n",
    "\n",
    "\n",
    "* continue statement:\n",
    "\n",
    "        This causes the loop to skip the remainder of its body and immediately retest its condidion prior to reiterating\n",
    "        \n",
    "* pass statement\n",
    "\n",
    "        The pass statement in python is used when a statement is required syntactically but you do not want any command    or code to execute"
   ]
  },
  {
   "cell_type": "code",
   "execution_count": 6,
   "metadata": {},
   "outputs": [
    {
     "name": "stdout",
     "output_type": "stream",
     "text": [
      "Break example: \n",
      "\n",
      "Letter : P\n",
      "Letter : y\n",
      "Letter : t\n",
      "\n",
      "Continue Example: \n",
      "\n",
      "Letter:  P\n",
      "Letter:  y\n",
      "Letter:  t\n",
      "Letter:  o\n",
      "Letter:  n\n",
      "\n",
      "Pass Example: \n",
      "\n",
      "Letter : P\n",
      "Letter : y\n",
      "Letter : t\n",
      "Letter : o\n",
      "Letter : n\n"
     ]
    }
   ],
   "source": [
    "print('Break example: \\n')\n",
    "for letter in 'Python':    \n",
    "    if letter == 'h':\n",
    "        break\n",
    "    print ('Letter :', letter)\n",
    "\n",
    "\n",
    "print('\\nContinue Example: \\n')\n",
    "for letter in 'Python':\n",
    "    if letter == 'h':\n",
    "        continue\n",
    "    print('Letter: ', letter)\n",
    "\n",
    "print('\\nPass Example: \\n')    \n",
    "for letter in 'Python': \n",
    "    if letter == 'h':\n",
    "        pass\n",
    "    else: \n",
    "        print('Letter :', letter)\n",
    "\n",
    "    \n"
   ]
  },
  {
   "cell_type": "markdown",
   "metadata": {},
   "source": [
    "## <a id='Functions'>4. Functions<a>"
   ]
  },
  {
   "cell_type": "markdown",
   "metadata": {},
   "source": [
    "A function is a block of organised and reusable code that we define in order to provide a greater level of modularity and reusability in our applications.\n",
    "\n",
    "\n",
    "We can define funtion blocks with the key word 'def' followed by the function name and parentheses (). \n",
    "\n",
    "Any parameters or arguments should be placed within these parentheses. \n",
    "\n",
    "The code block starts with a colon : and is indented\n",
    "\n",
    "the return statement exits a funtion, optionally passing back an expression to the caller."
   ]
  },
  {
   "cell_type": "code",
   "execution_count": 7,
   "metadata": {},
   "outputs": [
    {
     "name": "stdout",
     "output_type": "stream",
     "text": [
      "1998\n"
     ]
    }
   ],
   "source": [
    "def determineBirthYear(age):\n",
    "    #This is the body of your function where any statements can be placed, for example,\n",
    "    #we could calculate the birth year in here as follows,\n",
    "    #birthYear = 2020-age\n",
    "    #return birthYear\n",
    "    return 2020-age\n",
    "\n",
    "birthYear = determineBirthYear(22)\n",
    "print(birthYear)"
   ]
  },
  {
   "cell_type": "markdown",
   "metadata": {},
   "source": [
    "## <a id='Lists'>5. Lists<a>"
   ]
  },
  {
   "cell_type": "markdown",
   "metadata": {},
   "source": [
    "Lists are another data type supported by python and important for the completion of your assignments. The syntax of a list is as follows:\n",
    "\n",
    "list = [first Item, second Item, Third Item]\n",
    "\n",
    "list items in python do not need to be the same data type, are seperated by commas, and assigned an index based on their position in the list. Starting at 0."
   ]
  },
  {
   "cell_type": "code",
   "execution_count": 8,
   "metadata": {},
   "outputs": [
    {
     "name": "stdout",
     "output_type": "stream",
     "text": [
      "First index item:  5\n",
      "First index item:  ['python', True]\n"
     ]
    }
   ],
   "source": [
    "list1 = [5, \"python\", True]\n",
    "\n",
    "print(\"First index item: \", list1[0])\n",
    "print(\"First index item: \", list1[1:]) #can print multiple list items using unique indexing values"
   ]
  },
  {
   "cell_type": "markdown",
   "metadata": {},
   "source": [
    "## <a id='Classes'>6. Classes<a>"
   ]
  },
  {
   "cell_type": "markdown",
   "metadata": {},
   "source": [
    "A class is a user-defined prototype for an object that defines a set of attributes that characterize any object of the class. The attributes are data members (class variables and instance variables) and methods, accessed via dot notation.\n",
    "\n",
    "Classes and objects are used to define new data types in your programs. You can create a data type that represents a bank account, a car or a neuron from a neural network. Classes are the definition of what the object looks like. It contains 3 basic things: properties (any variables), functions (actions the object can perform), and __init__ function (a constructor used to initialize the object when created).An object is an instance of a class. It will have all the properties and functions defined in the class but the values between objects of the same class can be different.\n",
    "\n",
    "for more information regarding classes please see week 1 lab slides"
   ]
  },
  {
   "cell_type": "code",
   "execution_count": 9,
   "metadata": {},
   "outputs": [
    {
     "name": "stdout",
     "output_type": "stream",
     "text": [
      "Hello, my name is Frank\n"
     ]
    }
   ],
   "source": [
    "class Person:\n",
    "    def __init__(self, name, age):\n",
    "        self.name = name                  #__init__ is used to initialise the object with the given values\n",
    "        self.age = age\n",
    "        \n",
    "    def aboutMe(self):\n",
    "        print(\"Hello, my name is \" + self.name)       #we can use 'self' to access the variable 'name' stored within the object\n",
    "        \n",
    "p1 = Person(\"Frank\", 29)\n",
    "p1.aboutMe()"
   ]
  },
  {
   "cell_type": "markdown",
   "metadata": {},
   "source": [
    "# Week #1 Exercises"
   ]
  },
  {
   "cell_type": "markdown",
   "metadata": {},
   "source": [
    "## Exercise #1"
   ]
  },
  {
   "cell_type": "markdown",
   "metadata": {},
   "source": [
    "The first exercise is about lists. \n",
    "* You are going to have a list 'x' and an input value 'i'. \n",
    "* Multiply every value in the list 'x' by the value 'i' and sum the result of all the multiplications.\n",
    "* The start of the code is provided in the next cell of this notebook, add the code to do the multiplications.\n",
    "* Print the result of the sums at the end."
   ]
  },
  {
   "cell_type": "code",
   "execution_count": 4,
   "metadata": {},
   "outputs": [
    {
     "name": "stdout",
     "output_type": "stream",
     "text": [
      "1455\n",
      "expected result is: 1455\n"
     ]
    }
   ],
   "source": [
    "i = 5 # input value\n",
    "x = [12, 45, 78, 34, 90, 32]\n",
    "\n",
    "# ADD YOUR CODE BELOW THIS COMMENT\n",
    "result =0\n",
    "for xs in x:\n",
    "    result += i * xs\n",
    "print (result)\n",
    "print(\"expected result is: 1455\")"
   ]
  },
  {
   "cell_type": "markdown",
   "metadata": {},
   "source": [
    "## Exercise #2"
   ]
  },
  {
   "cell_type": "markdown",
   "metadata": {},
   "source": [
    "The second exercise is about creating your own dot product.\n",
    "* A dot product is the multiplication of two list of numbers. \n",
    "* Each number is multiply by the number that is in the other array at the same position and then sum all the multiplications.\n",
    "* For example given a=[1,2,3] b=[4,5,6]\n",
    "*       dot(a,b) = 1*4 + 2*+5 + 3*6 = 32\n",
    "* In the previous exercise you already multiply and sum all the numbers in a list by a single number, now you have to do it between two lists.\n",
    "* The function \"dot\" is already created and two test cases are added at the end. You just need to complete the function and execute the cell."
   ]
  },
  {
   "cell_type": "code",
   "execution_count": 5,
   "metadata": {},
   "outputs": [
    {
     "name": "stdout",
     "output_type": "stream",
     "text": [
      "Result of dot product between a and b is: 32 The expected result is: 32\n",
      "Result of dot product between c and d is: 1898 The expected result is: 1898\n"
     ]
    }
   ],
   "source": [
    "a = [1, 2, 3]\n",
    "b = [4, 5, 6]\n",
    "\n",
    "def dot(x, y):\n",
    "    result = 0\n",
    "    for i in range(len(x)):\n",
    "        result += x[i] * y[i]\n",
    "    return result\n",
    "\n",
    "# Test case 1\n",
    "print(\"Result of dot product between a and b is: \" + str(dot(a, b)) + \" The expected result is: \" + str(32))\n",
    "\n",
    "c = [10, 17, 32]\n",
    "d = [21, 56, 23]\n",
    "\n",
    "# Test case 2\n",
    "print(\"Result of dot product between c and d is: \" + str(dot(c, d)) + \" The expected result is: \" + str(1898))\n"
   ]
  },
  {
   "cell_type": "markdown",
   "metadata": {},
   "source": [
    "## Exercies #3"
   ]
  },
  {
   "cell_type": "markdown",
   "metadata": {},
   "source": [
    "For the last exercise we are going to do a dot product operation but using Classes and Objects. \n",
    "This will be useful for when you are working on the final assignment.\n",
    "\n",
    "* We will have a class called my_class. this will have an init, a function and two class variable (one is a list of values and the second one is single number value).\n",
    "* The function called my_function will receive a list of numbers as parameters and then do a dot product with the list class variable. You can use your code from the exercise #2 for this.\n",
    "* The result of the dot product is then saved on the class numeric variable.\n",
    "* At the end we print the code and run some test. \n",
    "* See the code in the next cell and complete the missing parts."
   ]
  },
  {
   "cell_type": "code",
   "execution_count": 6,
   "metadata": {},
   "outputs": [
    {
     "name": "stdout",
     "output_type": "stream",
     "text": [
      "Current value of the variable 'dot_product_result' inside the class: 0\n",
      "New value of 'dot_product_result' is: 70\n"
     ]
    }
   ],
   "source": [
    "external_list = [1, 2, 3, 4]\n",
    "\n",
    "class my_class:\n",
    "    def __init__(self):\n",
    "        self.dot_product_result = 0\n",
    "        self.values_list = [9, 8, 7, 6]\n",
    "    \n",
    "    def my_function(self, list_a):\n",
    "        # Compute the dot product and store it in dot_product_result\n",
    "        self.dot_product_result = sum([a * b for a, b in zip(self.values_list, list_a)])\n",
    "\n",
    "# Create an object of my_class\n",
    "my_object = my_class()\n",
    "\n",
    "# Before calling the function\n",
    "print(\"Current value of the variable 'dot_product_result' inside the class: \" + str(my_object.dot_product_result))\n",
    "\n",
    "# Call my_function and pass 'external_list' as a parameter\n",
    "my_object.my_function(external_list)\n",
    "\n",
    "# After executing the function\n",
    "print(\"New value of 'dot_product_result' is: \" + str(my_object.dot_product_result))\n"
   ]
  },
  {
   "cell_type": "code",
   "execution_count": null,
   "metadata": {},
   "outputs": [],
   "source": []
  }
 ],
 "metadata": {
  "interpreter": {
   "hash": "d93b861fe16cf796a0c172b98c909d5c99bca201ce5eaa415e08f830e2ab16d6"
  },
  "kernelspec": {
   "display_name": "Python 3 (ipykernel)",
   "language": "python",
   "name": "python3"
  },
  "language_info": {
   "codemirror_mode": {
    "name": "ipython",
    "version": 3
   },
   "file_extension": ".py",
   "mimetype": "text/x-python",
   "name": "python",
   "nbconvert_exporter": "python",
   "pygments_lexer": "ipython3",
   "version": "3.12.4"
  }
 },
 "nbformat": 4,
 "nbformat_minor": 4
}
