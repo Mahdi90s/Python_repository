{
 "cells": [
  {
   "cell_type": "code",
   "execution_count": 19,
   "id": "4549a892-fd8e-4522-a112-53718607ff6d",
   "metadata": {},
   "outputs": [
    {
     "name": "stdout",
     "output_type": "stream",
     "text": [
      "Output of the network: 0.4263323120872692\n"
     ]
    }
   ],
   "source": [
    "import numpy as np\n",
    "\n",
    "# Define the Neuron Class\n",
    "\n",
    "class Neuron:\n",
    "    def __init__(self, num_inputs):\n",
    "        self.weights = np.random.randn (num_inputs)\n",
    "        self.bias = np.random.randn()\n",
    "\n",
    "    def activation(self, z):\n",
    "        return 1 / (1 + np.exp(0.5 * (-z)))\n",
    "\n",
    "    def forward(self, inputs):\n",
    "        z = np.dot(inputs, self.weights) + self.bias\n",
    "        output = self.activation(z)\n",
    "        return output\n",
    "\n",
    "# Define the Layer Class\n",
    "\n",
    "class Layer:\n",
    "    def __init__(self, num_inputs):\n",
    "        self.neuron = Neuron(num_inputs)\n",
    "\n",
    "    def forward(self, inputs):\n",
    "        return self.neuron.forward(inputs)\n",
    "\n",
    "# Buld the NerualNetwork\n",
    "\n",
    "class NeuralNetwork:\n",
    "    def __init__(self, input_size):\n",
    "        self.input_layer = Layer(input_size)\n",
    "        self.hidden_layer = Layer(1)\n",
    "        self.output_layer = Layer(1)\n",
    "\n",
    "    def forward(self, inputs):\n",
    "        out1 = self.input_layer.forward(inputs)\n",
    "        out2 = self.hidden_layer.forward([out1])\n",
    "        out3 = self.output_layer.forward([out2])\n",
    "        return out3\n",
    "\n",
    "#Test the Neural Network\n",
    "\n",
    "nn = NeuralNetwork(3)\n",
    "\n",
    "input_data = [0.5, -1.2, 0.3]\n",
    "\n",
    "output = nn.forward(input_data)\n",
    "\n",
    "print (\"Output of the network:\", output)"
   ]
  },
  {
   "cell_type": "code",
   "execution_count": null,
   "id": "fb2451c1-ad7a-4ad1-b5a4-f809c41aedf6",
   "metadata": {},
   "outputs": [],
   "source": []
  }
 ],
 "metadata": {
  "kernelspec": {
   "display_name": "Python 3 (ipykernel)",
   "language": "python",
   "name": "python3"
  },
  "language_info": {
   "codemirror_mode": {
    "name": "ipython",
    "version": 3
   },
   "file_extension": ".py",
   "mimetype": "text/x-python",
   "name": "python",
   "nbconvert_exporter": "python",
   "pygments_lexer": "ipython3",
   "version": "3.12.4"
  }
 },
 "nbformat": 4,
 "nbformat_minor": 5
}
