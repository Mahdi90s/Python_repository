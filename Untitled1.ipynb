{
 "cells": [
  {
   "cell_type": "code",
   "execution_count": 5,
   "id": "d617ae2a-298c-4aed-a3ba-3939aa46f587",
   "metadata": {},
   "outputs": [
    {
     "ename": "NameError",
     "evalue": "name 'layer' is not defined",
     "output_type": "error",
     "traceback": [
      "\u001b[0;31m---------------------------------------------------------------------------\u001b[0m",
      "\u001b[0;31mNameError\u001b[0m                                 Traceback (most recent call last)",
      "Cell \u001b[0;32mIn[5], line 44\u001b[0m\n\u001b[1;32m     40\u001b[0m         out3 \u001b[38;5;241m=\u001b[39m \u001b[38;5;28mself\u001b[39m\u001b[38;5;241m.\u001b[39minput_Layer\u001b[38;5;241m.\u001b[39mforward[out2]\n\u001b[1;32m     42\u001b[0m         \u001b[38;5;28;01mreturn\u001b[39;00m out3\n\u001b[0;32m---> 44\u001b[0m nn \u001b[38;5;241m=\u001b[39m NeuralNetwork(\u001b[38;5;241m3\u001b[39m)\n\u001b[1;32m     46\u001b[0m input_data \u001b[38;5;241m=\u001b[39m [\u001b[38;5;241m1\u001b[39m, \u001b[38;5;241m2\u001b[39m, \u001b[38;5;241m3\u001b[39m]\n\u001b[1;32m     48\u001b[0m output \u001b[38;5;241m=\u001b[39m nn\u001b[38;5;241m.\u001b[39mforward(input_data)\n",
      "Cell \u001b[0;32mIn[5], line 33\u001b[0m, in \u001b[0;36mNeuralNetwork.__init__\u001b[0;34m(self, input_size)\u001b[0m\n\u001b[1;32m     30\u001b[0m \u001b[38;5;28;01mdef\u001b[39;00m \u001b[38;5;21m__init__\u001b[39m(\u001b[38;5;28mself\u001b[39m, input_size):\n\u001b[1;32m     32\u001b[0m     \u001b[38;5;28mself\u001b[39m\u001b[38;5;241m.\u001b[39minput_layer \u001b[38;5;241m=\u001b[39m Layer(input_size)\n\u001b[0;32m---> 33\u001b[0m     \u001b[38;5;28mself\u001b[39m\u001b[38;5;241m.\u001b[39mhidden_layer \u001b[38;5;241m=\u001b[39m layer (\u001b[38;5;241m1\u001b[39m)\n\u001b[1;32m     34\u001b[0m     \u001b[38;5;28mself\u001b[39m\u001b[38;5;241m.\u001b[39moutput_layer \u001b[38;5;241m=\u001b[39m layer (\u001b[38;5;241m1\u001b[39m)\n",
      "\u001b[0;31mNameError\u001b[0m: name 'layer' is not defined"
     ]
    }
   ],
   "source": [
    "import numpy as np\n",
    "\n",
    "class Neuron:\n",
    "\n",
    "    def __init__(self, num_input):\n",
    "        self.weight = np.random.randn (num_input)\n",
    "        self.bais = np.random.randn()\n",
    "        \n",
    "    def activatation(self, z):\n",
    "        \n",
    "        return 1 / (1 + exp(0.5 * (-z)))\n",
    "\n",
    "    def forward(self, inputs):\n",
    "        \n",
    "        z = np.dot(inputs, self.weights) + self.bais\n",
    "\n",
    "class Layer:\n",
    "    \n",
    "    def __init__(self, num_inputs):\n",
    "        \n",
    "        self.neuron = Neuron(num_inputs)\n",
    "\n",
    "    def forward(self, inputs):\n",
    "        \n",
    "        return self.neuron.forward(inputs)\n",
    "        \n",
    "class NeuralNetwork:\n",
    "\n",
    "\n",
    "    def __init__(self, input_size):\n",
    "\n",
    "        self.input_layer = Layer(input_size)\n",
    "        self.hidden_layer = Layer (1)\n",
    "        self.output_layer = ayer (1)\n",
    "\n",
    "    def forward(self, inputs):\n",
    "\n",
    "        out1 = self.input_Layer.forward(inputs)\n",
    "        out2 = self.input_Layer.forward[out1]\n",
    "        out3 = self.input_Layer.forward[out2]\n",
    "        \n",
    "        return out3\n",
    "\n",
    "nn = NeuralNetwork(3)\n",
    "\n",
    "input_data = [1, 2, 3]\n",
    "\n",
    "output = nn.forward(input_data)\n",
    "\n",
    "output\n"
   ]
  }
 ],
 "metadata": {
  "kernelspec": {
   "display_name": "Python 3 (ipykernel)",
   "language": "python",
   "name": "python3"
  },
  "language_info": {
   "codemirror_mode": {
    "name": "ipython",
    "version": 3
   },
   "file_extension": ".py",
   "mimetype": "text/x-python",
   "name": "python",
   "nbconvert_exporter": "python",
   "pygments_lexer": "ipython3",
   "version": "3.12.4"
  }
 },
 "nbformat": 4,
 "nbformat_minor": 5
}
