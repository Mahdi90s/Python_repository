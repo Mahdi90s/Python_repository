{
 "cells": [
  {
   "cell_type": "markdown",
   "metadata": {},
   "source": [
    "# Data preparation for machine learning"
   ]
  },
  {
   "cell_type": "markdown",
   "metadata": {},
   "source": [
    "By: Jacobo Fernandez-Vargas and Luca Citi\n",
    "\n",
    "Based on the [scikit-learn](http://scikit-learn.org/stable/tutorial/basic/tutorial.html) and [pandas](https://pandas.pydata.org/docs/getting_started/index.html) documentation"
   ]
  },
  {
   "cell_type": "markdown",
   "metadata": {},
   "source": [
    "## Loading data with Pandas"
   ]
  },
  {
   "cell_type": "markdown",
   "metadata": {},
   "source": [
    "Pandas is a powerful library used in data analysis. We are not going to explore all its options but only focus on those functionalities that allow us to read data that contains non-numeric values such as text or dates. Pandas can also load data from excel files using the library 'xlrd'. Pandas supports reading and writing other complex data types such as sql, json, html and many more.\n",
    "When reading CSV files, Pandas tries to infer the type from the values in each column. We can force Pandas to treat a column as containing dates and even specify that we want to treat dates as 'dayfirst', i.e. DD/MM/YYYY (the way used in several countries, including the UK) rather than MM/DD/YYYY (like in the USA).\n",
    "If we have all numeric values in a CSV format we can also use Numpy directly to read the table but we will not have access to Pandas functionalities."
   ]
  },
  {
   "cell_type": "code",
   "execution_count": 35,
   "metadata": {},
   "outputs": [],
   "source": [
    "import pandas as pd"
   ]
  },
  {
   "cell_type": "code",
   "execution_count": 36,
   "metadata": {},
   "outputs": [
    {
     "data": {
      "text/html": [
       "<div>\n",
       "<style scoped>\n",
       "    .dataframe tbody tr th:only-of-type {\n",
       "        vertical-align: middle;\n",
       "    }\n",
       "\n",
       "    .dataframe tbody tr th {\n",
       "        vertical-align: top;\n",
       "    }\n",
       "\n",
       "    .dataframe thead th {\n",
       "        text-align: right;\n",
       "    }\n",
       "</style>\n",
       "<table border=\"1\" class=\"dataframe\">\n",
       "  <thead>\n",
       "    <tr style=\"text-align: right;\">\n",
       "      <th></th>\n",
       "      <th>Date</th>\n",
       "      <th>Time</th>\n",
       "      <th>Size</th>\n",
       "      <th>Colour</th>\n",
       "      <th>Cost</th>\n",
       "      <th>Label</th>\n",
       "    </tr>\n",
       "  </thead>\n",
       "  <tbody>\n",
       "    <tr>\n",
       "      <th>0</th>\n",
       "      <td>2020-10-16</td>\n",
       "      <td>11.0</td>\n",
       "      <td>Small</td>\n",
       "      <td>Blue</td>\n",
       "      <td>109.521068</td>\n",
       "      <td>1</td>\n",
       "    </tr>\n",
       "    <tr>\n",
       "      <th>1</th>\n",
       "      <td>2020-10-16</td>\n",
       "      <td>13.0</td>\n",
       "      <td>Small</td>\n",
       "      <td>Red</td>\n",
       "      <td>112.141170</td>\n",
       "      <td>1</td>\n",
       "    </tr>\n",
       "    <tr>\n",
       "      <th>2</th>\n",
       "      <td>2020-10-16</td>\n",
       "      <td>17.0</td>\n",
       "      <td>Medium</td>\n",
       "      <td>Green</td>\n",
       "      <td>112.004677</td>\n",
       "      <td>1</td>\n",
       "    </tr>\n",
       "    <tr>\n",
       "      <th>3</th>\n",
       "      <td>2020-10-17</td>\n",
       "      <td>9.0</td>\n",
       "      <td>Large</td>\n",
       "      <td>Green</td>\n",
       "      <td>15.112922</td>\n",
       "      <td>0</td>\n",
       "    </tr>\n",
       "    <tr>\n",
       "      <th>4</th>\n",
       "      <td>2020-10-17</td>\n",
       "      <td>11.0</td>\n",
       "      <td>Large</td>\n",
       "      <td>Green</td>\n",
       "      <td>105.663642</td>\n",
       "      <td>1</td>\n",
       "    </tr>\n",
       "    <tr>\n",
       "      <th>5</th>\n",
       "      <td>2020-10-17</td>\n",
       "      <td>17.0</td>\n",
       "      <td>Medium</td>\n",
       "      <td>Green</td>\n",
       "      <td>5.158097</td>\n",
       "      <td>0</td>\n",
       "    </tr>\n",
       "    <tr>\n",
       "      <th>6</th>\n",
       "      <td>2020-10-18</td>\n",
       "      <td>9.0</td>\n",
       "      <td>Small</td>\n",
       "      <td>Blue</td>\n",
       "      <td>107.947930</td>\n",
       "      <td>1</td>\n",
       "    </tr>\n",
       "    <tr>\n",
       "      <th>7</th>\n",
       "      <td>2020-10-18</td>\n",
       "      <td>NaN</td>\n",
       "      <td>Large</td>\n",
       "      <td>Red</td>\n",
       "      <td>8.320838</td>\n",
       "      <td>0</td>\n",
       "    </tr>\n",
       "    <tr>\n",
       "      <th>8</th>\n",
       "      <td>2020-10-18</td>\n",
       "      <td>13.0</td>\n",
       "      <td>Large</td>\n",
       "      <td>Red</td>\n",
       "      <td>113.424684</td>\n",
       "      <td>1</td>\n",
       "    </tr>\n",
       "    <tr>\n",
       "      <th>9</th>\n",
       "      <td>2020-10-18</td>\n",
       "      <td>15.0</td>\n",
       "      <td>Small</td>\n",
       "      <td>Blue</td>\n",
       "      <td>103.223563</td>\n",
       "      <td>1</td>\n",
       "    </tr>\n",
       "    <tr>\n",
       "      <th>10</th>\n",
       "      <td>2020-10-18</td>\n",
       "      <td>17.0</td>\n",
       "      <td>Large</td>\n",
       "      <td>Red</td>\n",
       "      <td>115.190210</td>\n",
       "      <td>1</td>\n",
       "    </tr>\n",
       "    <tr>\n",
       "      <th>11</th>\n",
       "      <td>2020-10-19</td>\n",
       "      <td>9.0</td>\n",
       "      <td>Medium</td>\n",
       "      <td>Blue</td>\n",
       "      <td>105.216665</td>\n",
       "      <td>1</td>\n",
       "    </tr>\n",
       "    <tr>\n",
       "      <th>12</th>\n",
       "      <td>2020-10-19</td>\n",
       "      <td>11.0</td>\n",
       "      <td>Small</td>\n",
       "      <td>Red</td>\n",
       "      <td>103.433604</td>\n",
       "      <td>1</td>\n",
       "    </tr>\n",
       "    <tr>\n",
       "      <th>13</th>\n",
       "      <td>2020-10-19</td>\n",
       "      <td>13.0</td>\n",
       "      <td>Large</td>\n",
       "      <td>Blue</td>\n",
       "      <td>15.599248</td>\n",
       "      <td>0</td>\n",
       "    </tr>\n",
       "    <tr>\n",
       "      <th>14</th>\n",
       "      <td>2020-10-19</td>\n",
       "      <td>15.0</td>\n",
       "      <td>Small</td>\n",
       "      <td>Red</td>\n",
       "      <td>12.904205</td>\n",
       "      <td>0</td>\n",
       "    </tr>\n",
       "    <tr>\n",
       "      <th>15</th>\n",
       "      <td>2020-10-20</td>\n",
       "      <td>9.0</td>\n",
       "      <td>Small</td>\n",
       "      <td>Red</td>\n",
       "      <td>19.042334</td>\n",
       "      <td>0</td>\n",
       "    </tr>\n",
       "    <tr>\n",
       "      <th>16</th>\n",
       "      <td>2020-10-20</td>\n",
       "      <td>NaN</td>\n",
       "      <td>Large</td>\n",
       "      <td>Blue</td>\n",
       "      <td>113.658567</td>\n",
       "      <td>1</td>\n",
       "    </tr>\n",
       "    <tr>\n",
       "      <th>17</th>\n",
       "      <td>2020-10-20</td>\n",
       "      <td>17.0</td>\n",
       "      <td>Medium</td>\n",
       "      <td>Red</td>\n",
       "      <td>115.991724</td>\n",
       "      <td>1</td>\n",
       "    </tr>\n",
       "    <tr>\n",
       "      <th>18</th>\n",
       "      <td>2020-10-23</td>\n",
       "      <td>11.0</td>\n",
       "      <td>Medium</td>\n",
       "      <td>Blue</td>\n",
       "      <td>3.643787</td>\n",
       "      <td>0</td>\n",
       "    </tr>\n",
       "    <tr>\n",
       "      <th>19</th>\n",
       "      <td>2020-10-24</td>\n",
       "      <td>11.0</td>\n",
       "      <td>Medium</td>\n",
       "      <td>Red</td>\n",
       "      <td>118.108710</td>\n",
       "      <td>1</td>\n",
       "    </tr>\n",
       "    <tr>\n",
       "      <th>20</th>\n",
       "      <td>2020-10-25</td>\n",
       "      <td>11.0</td>\n",
       "      <td>Large</td>\n",
       "      <td>Green</td>\n",
       "      <td>14.973611</td>\n",
       "      <td>0</td>\n",
       "    </tr>\n",
       "    <tr>\n",
       "      <th>21</th>\n",
       "      <td>2020-10-25</td>\n",
       "      <td>NaN</td>\n",
       "      <td>Large</td>\n",
       "      <td>Blue</td>\n",
       "      <td>10.699388</td>\n",
       "      <td>0</td>\n",
       "    </tr>\n",
       "    <tr>\n",
       "      <th>22</th>\n",
       "      <td>2020-10-25</td>\n",
       "      <td>15.0</td>\n",
       "      <td>Large</td>\n",
       "      <td>Red</td>\n",
       "      <td>106.224366</td>\n",
       "      <td>1</td>\n",
       "    </tr>\n",
       "    <tr>\n",
       "      <th>23</th>\n",
       "      <td>2020-10-26</td>\n",
       "      <td>11.0</td>\n",
       "      <td>Large</td>\n",
       "      <td>Red</td>\n",
       "      <td>114.638621</td>\n",
       "      <td>1</td>\n",
       "    </tr>\n",
       "    <tr>\n",
       "      <th>24</th>\n",
       "      <td>2020-10-26</td>\n",
       "      <td>13.0</td>\n",
       "      <td>Small</td>\n",
       "      <td>Blue</td>\n",
       "      <td>1.228235</td>\n",
       "      <td>0</td>\n",
       "    </tr>\n",
       "    <tr>\n",
       "      <th>25</th>\n",
       "      <td>2020-10-27</td>\n",
       "      <td>11.0</td>\n",
       "      <td>Large</td>\n",
       "      <td>Red</td>\n",
       "      <td>5.791450</td>\n",
       "      <td>0</td>\n",
       "    </tr>\n",
       "    <tr>\n",
       "      <th>26</th>\n",
       "      <td>2020-10-28</td>\n",
       "      <td>9.0</td>\n",
       "      <td>Small</td>\n",
       "      <td>Red</td>\n",
       "      <td>8.606806</td>\n",
       "      <td>0</td>\n",
       "    </tr>\n",
       "    <tr>\n",
       "      <th>27</th>\n",
       "      <td>2020-10-28</td>\n",
       "      <td>13.0</td>\n",
       "      <td>Large</td>\n",
       "      <td>Blue</td>\n",
       "      <td>12.414377</td>\n",
       "      <td>0</td>\n",
       "    </tr>\n",
       "    <tr>\n",
       "      <th>28</th>\n",
       "      <td>2020-10-30</td>\n",
       "      <td>NaN</td>\n",
       "      <td>Large</td>\n",
       "      <td>Red</td>\n",
       "      <td>115.663402</td>\n",
       "      <td>1</td>\n",
       "    </tr>\n",
       "    <tr>\n",
       "      <th>29</th>\n",
       "      <td>2020-10-30</td>\n",
       "      <td>13.0</td>\n",
       "      <td>Small</td>\n",
       "      <td>Blue</td>\n",
       "      <td>115.410273</td>\n",
       "      <td>1</td>\n",
       "    </tr>\n",
       "    <tr>\n",
       "      <th>30</th>\n",
       "      <td>2020-10-30</td>\n",
       "      <td>11.0</td>\n",
       "      <td>Small</td>\n",
       "      <td>Red</td>\n",
       "      <td>105.401517</td>\n",
       "      <td>1</td>\n",
       "    </tr>\n",
       "    <tr>\n",
       "      <th>31</th>\n",
       "      <td>2020-10-31</td>\n",
       "      <td>13.0</td>\n",
       "      <td>Medium</td>\n",
       "      <td>Green</td>\n",
       "      <td>0.137767</td>\n",
       "      <td>0</td>\n",
       "    </tr>\n",
       "    <tr>\n",
       "      <th>32</th>\n",
       "      <td>2020-11-01</td>\n",
       "      <td>9.0</td>\n",
       "      <td>Large</td>\n",
       "      <td>Green</td>\n",
       "      <td>112.661384</td>\n",
       "      <td>1</td>\n",
       "    </tr>\n",
       "  </tbody>\n",
       "</table>\n",
       "</div>"
      ],
      "text/plain": [
       "         Date  Time    Size Colour        Cost  Label\n",
       "0  2020-10-16  11.0   Small   Blue  109.521068      1\n",
       "1  2020-10-16  13.0   Small    Red  112.141170      1\n",
       "2  2020-10-16  17.0  Medium  Green  112.004677      1\n",
       "3  2020-10-17   9.0   Large  Green   15.112922      0\n",
       "4  2020-10-17  11.0   Large  Green  105.663642      1\n",
       "5  2020-10-17  17.0  Medium  Green    5.158097      0\n",
       "6  2020-10-18   9.0   Small   Blue  107.947930      1\n",
       "7  2020-10-18   NaN   Large    Red    8.320838      0\n",
       "8  2020-10-18  13.0   Large    Red  113.424684      1\n",
       "9  2020-10-18  15.0   Small   Blue  103.223563      1\n",
       "10 2020-10-18  17.0   Large    Red  115.190210      1\n",
       "11 2020-10-19   9.0  Medium   Blue  105.216665      1\n",
       "12 2020-10-19  11.0   Small    Red  103.433604      1\n",
       "13 2020-10-19  13.0   Large   Blue   15.599248      0\n",
       "14 2020-10-19  15.0   Small    Red   12.904205      0\n",
       "15 2020-10-20   9.0   Small    Red   19.042334      0\n",
       "16 2020-10-20   NaN   Large   Blue  113.658567      1\n",
       "17 2020-10-20  17.0  Medium    Red  115.991724      1\n",
       "18 2020-10-23  11.0  Medium   Blue    3.643787      0\n",
       "19 2020-10-24  11.0  Medium    Red  118.108710      1\n",
       "20 2020-10-25  11.0   Large  Green   14.973611      0\n",
       "21 2020-10-25   NaN   Large   Blue   10.699388      0\n",
       "22 2020-10-25  15.0   Large    Red  106.224366      1\n",
       "23 2020-10-26  11.0   Large    Red  114.638621      1\n",
       "24 2020-10-26  13.0   Small   Blue    1.228235      0\n",
       "25 2020-10-27  11.0   Large    Red    5.791450      0\n",
       "26 2020-10-28   9.0   Small    Red    8.606806      0\n",
       "27 2020-10-28  13.0   Large   Blue   12.414377      0\n",
       "28 2020-10-30   NaN   Large    Red  115.663402      1\n",
       "29 2020-10-30  13.0   Small   Blue  115.410273      1\n",
       "30 2020-10-30  11.0   Small    Red  105.401517      1\n",
       "31 2020-10-31  13.0  Medium  Green    0.137767      0\n",
       "32 2020-11-01   9.0   Large  Green  112.661384      1"
      ]
     },
     "execution_count": 36,
     "metadata": {},
     "output_type": "execute_result"
    }
   ],
   "source": [
    "data = pd.read_csv('example1.csv', parse_dates=['Date'], dayfirst=True)\n",
    "data"
   ]
  },
  {
   "cell_type": "markdown",
   "metadata": {},
   "source": [
    "Just like `ndarray` is the fundamental brick of the numpy library, the dataframe is the fundamental brick of the pandas library.\n",
    "A dataframe is a a table where each column is a variable (or series as they are called in Pandas) and each row is a sample. We can access each series using the name of the variable, either using the index notation (`df['v']`) or as field of the object (`df.v`). The latter notation can only be used when the field name is a valid field name (e.g., column '3a' can only be accessed as `df['3a']`).\n",
    "\n",
    "The method `head` shows only the first 5 entries of the table."
   ]
  },
  {
   "cell_type": "code",
   "execution_count": 38,
   "metadata": {},
   "outputs": [
    {
     "name": "stdout",
     "output_type": "stream",
     "text": [
      "0   2020-10-16\n",
      "1   2020-10-16\n",
      "2   2020-10-16\n",
      "3   2020-10-17\n",
      "4   2020-10-17\n",
      "Name: Date, dtype: datetime64[ns]\n",
      "0   2020-10-16\n",
      "1   2020-10-16\n",
      "2   2020-10-16\n",
      "3   2020-10-17\n",
      "4   2020-10-17\n",
      "Name: Date, dtype: datetime64[ns]\n"
     ]
    }
   ],
   "source": [
    "print(data['Date'].head())\n",
    "print(data.Date.head())"
   ]
  },
  {
   "cell_type": "markdown",
   "metadata": {},
   "source": [
    "To select rows, we can use either conditional indexing or a more traditional numeric indexing.\n",
    "For example let's select the rows for which the colour is blue."
   ]
  },
  {
   "cell_type": "code",
   "execution_count": 40,
   "metadata": {},
   "outputs": [
    {
     "data": {
      "text/html": [
       "<div>\n",
       "<style scoped>\n",
       "    .dataframe tbody tr th:only-of-type {\n",
       "        vertical-align: middle;\n",
       "    }\n",
       "\n",
       "    .dataframe tbody tr th {\n",
       "        vertical-align: top;\n",
       "    }\n",
       "\n",
       "    .dataframe thead th {\n",
       "        text-align: right;\n",
       "    }\n",
       "</style>\n",
       "<table border=\"1\" class=\"dataframe\">\n",
       "  <thead>\n",
       "    <tr style=\"text-align: right;\">\n",
       "      <th></th>\n",
       "      <th>Date</th>\n",
       "      <th>Time</th>\n",
       "      <th>Size</th>\n",
       "      <th>Colour</th>\n",
       "      <th>Cost</th>\n",
       "      <th>Label</th>\n",
       "    </tr>\n",
       "  </thead>\n",
       "  <tbody>\n",
       "    <tr>\n",
       "      <th>0</th>\n",
       "      <td>2020-10-16</td>\n",
       "      <td>11.0</td>\n",
       "      <td>Small</td>\n",
       "      <td>Blue</td>\n",
       "      <td>109.521068</td>\n",
       "      <td>1</td>\n",
       "    </tr>\n",
       "    <tr>\n",
       "      <th>6</th>\n",
       "      <td>2020-10-18</td>\n",
       "      <td>9.0</td>\n",
       "      <td>Small</td>\n",
       "      <td>Blue</td>\n",
       "      <td>107.947930</td>\n",
       "      <td>1</td>\n",
       "    </tr>\n",
       "    <tr>\n",
       "      <th>9</th>\n",
       "      <td>2020-10-18</td>\n",
       "      <td>15.0</td>\n",
       "      <td>Small</td>\n",
       "      <td>Blue</td>\n",
       "      <td>103.223563</td>\n",
       "      <td>1</td>\n",
       "    </tr>\n",
       "    <tr>\n",
       "      <th>11</th>\n",
       "      <td>2020-10-19</td>\n",
       "      <td>9.0</td>\n",
       "      <td>Medium</td>\n",
       "      <td>Blue</td>\n",
       "      <td>105.216665</td>\n",
       "      <td>1</td>\n",
       "    </tr>\n",
       "    <tr>\n",
       "      <th>13</th>\n",
       "      <td>2020-10-19</td>\n",
       "      <td>13.0</td>\n",
       "      <td>Large</td>\n",
       "      <td>Blue</td>\n",
       "      <td>15.599248</td>\n",
       "      <td>0</td>\n",
       "    </tr>\n",
       "    <tr>\n",
       "      <th>16</th>\n",
       "      <td>2020-10-20</td>\n",
       "      <td>NaN</td>\n",
       "      <td>Large</td>\n",
       "      <td>Blue</td>\n",
       "      <td>113.658567</td>\n",
       "      <td>1</td>\n",
       "    </tr>\n",
       "    <tr>\n",
       "      <th>18</th>\n",
       "      <td>2020-10-23</td>\n",
       "      <td>11.0</td>\n",
       "      <td>Medium</td>\n",
       "      <td>Blue</td>\n",
       "      <td>3.643787</td>\n",
       "      <td>0</td>\n",
       "    </tr>\n",
       "    <tr>\n",
       "      <th>21</th>\n",
       "      <td>2020-10-25</td>\n",
       "      <td>NaN</td>\n",
       "      <td>Large</td>\n",
       "      <td>Blue</td>\n",
       "      <td>10.699388</td>\n",
       "      <td>0</td>\n",
       "    </tr>\n",
       "    <tr>\n",
       "      <th>24</th>\n",
       "      <td>2020-10-26</td>\n",
       "      <td>13.0</td>\n",
       "      <td>Small</td>\n",
       "      <td>Blue</td>\n",
       "      <td>1.228235</td>\n",
       "      <td>0</td>\n",
       "    </tr>\n",
       "    <tr>\n",
       "      <th>27</th>\n",
       "      <td>2020-10-28</td>\n",
       "      <td>13.0</td>\n",
       "      <td>Large</td>\n",
       "      <td>Blue</td>\n",
       "      <td>12.414377</td>\n",
       "      <td>0</td>\n",
       "    </tr>\n",
       "    <tr>\n",
       "      <th>29</th>\n",
       "      <td>2020-10-30</td>\n",
       "      <td>13.0</td>\n",
       "      <td>Small</td>\n",
       "      <td>Blue</td>\n",
       "      <td>115.410273</td>\n",
       "      <td>1</td>\n",
       "    </tr>\n",
       "  </tbody>\n",
       "</table>\n",
       "</div>"
      ],
      "text/plain": [
       "         Date  Time    Size Colour        Cost  Label\n",
       "0  2020-10-16  11.0   Small   Blue  109.521068      1\n",
       "6  2020-10-18   9.0   Small   Blue  107.947930      1\n",
       "9  2020-10-18  15.0   Small   Blue  103.223563      1\n",
       "11 2020-10-19   9.0  Medium   Blue  105.216665      1\n",
       "13 2020-10-19  13.0   Large   Blue   15.599248      0\n",
       "16 2020-10-20   NaN   Large   Blue  113.658567      1\n",
       "18 2020-10-23  11.0  Medium   Blue    3.643787      0\n",
       "21 2020-10-25   NaN   Large   Blue   10.699388      0\n",
       "24 2020-10-26  13.0   Small   Blue    1.228235      0\n",
       "27 2020-10-28  13.0   Large   Blue   12.414377      0\n",
       "29 2020-10-30  13.0   Small   Blue  115.410273      1"
      ]
     },
     "execution_count": 40,
     "metadata": {},
     "output_type": "execute_result"
    }
   ],
   "source": [
    "data[data[\"Colour\"] == 'Blue']"
   ]
  },
  {
   "cell_type": "markdown",
   "metadata": {},
   "source": [
    "Now let's select the first five rows."
   ]
  },
  {
   "cell_type": "code",
   "execution_count": 42,
   "metadata": {},
   "outputs": [
    {
     "data": {
      "text/html": [
       "<div>\n",
       "<style scoped>\n",
       "    .dataframe tbody tr th:only-of-type {\n",
       "        vertical-align: middle;\n",
       "    }\n",
       "\n",
       "    .dataframe tbody tr th {\n",
       "        vertical-align: top;\n",
       "    }\n",
       "\n",
       "    .dataframe thead th {\n",
       "        text-align: right;\n",
       "    }\n",
       "</style>\n",
       "<table border=\"1\" class=\"dataframe\">\n",
       "  <thead>\n",
       "    <tr style=\"text-align: right;\">\n",
       "      <th></th>\n",
       "      <th>Date</th>\n",
       "      <th>Time</th>\n",
       "      <th>Size</th>\n",
       "      <th>Colour</th>\n",
       "      <th>Cost</th>\n",
       "      <th>Label</th>\n",
       "    </tr>\n",
       "  </thead>\n",
       "  <tbody>\n",
       "    <tr>\n",
       "      <th>0</th>\n",
       "      <td>2020-10-16</td>\n",
       "      <td>11.0</td>\n",
       "      <td>Small</td>\n",
       "      <td>Blue</td>\n",
       "      <td>109.521068</td>\n",
       "      <td>1</td>\n",
       "    </tr>\n",
       "    <tr>\n",
       "      <th>1</th>\n",
       "      <td>2020-10-16</td>\n",
       "      <td>13.0</td>\n",
       "      <td>Small</td>\n",
       "      <td>Red</td>\n",
       "      <td>112.141170</td>\n",
       "      <td>1</td>\n",
       "    </tr>\n",
       "    <tr>\n",
       "      <th>2</th>\n",
       "      <td>2020-10-16</td>\n",
       "      <td>17.0</td>\n",
       "      <td>Medium</td>\n",
       "      <td>Green</td>\n",
       "      <td>112.004677</td>\n",
       "      <td>1</td>\n",
       "    </tr>\n",
       "    <tr>\n",
       "      <th>3</th>\n",
       "      <td>2020-10-17</td>\n",
       "      <td>9.0</td>\n",
       "      <td>Large</td>\n",
       "      <td>Green</td>\n",
       "      <td>15.112922</td>\n",
       "      <td>0</td>\n",
       "    </tr>\n",
       "    <tr>\n",
       "      <th>4</th>\n",
       "      <td>2020-10-17</td>\n",
       "      <td>11.0</td>\n",
       "      <td>Large</td>\n",
       "      <td>Green</td>\n",
       "      <td>105.663642</td>\n",
       "      <td>1</td>\n",
       "    </tr>\n",
       "  </tbody>\n",
       "</table>\n",
       "</div>"
      ],
      "text/plain": [
       "        Date  Time    Size Colour        Cost  Label\n",
       "0 2020-10-16  11.0   Small   Blue  109.521068      1\n",
       "1 2020-10-16  13.0   Small    Red  112.141170      1\n",
       "2 2020-10-16  17.0  Medium  Green  112.004677      1\n",
       "3 2020-10-17   9.0   Large  Green   15.112922      0\n",
       "4 2020-10-17  11.0   Large  Green  105.663642      1"
      ]
     },
     "execution_count": 42,
     "metadata": {},
     "output_type": "execute_result"
    }
   ],
   "source": [
    "data.iloc[:5,:]"
   ]
  },
  {
   "cell_type": "markdown",
   "metadata": {},
   "source": [
    "Pandas is a really powerful tool but in the interest iof time we are not going to explain it further. However you can visit these [tutorials](https://pandas.pydata.org/docs/getting_started/index.html) to learn more about it."
   ]
  },
  {
   "cell_type": "markdown",
   "metadata": {},
   "source": [
    "## Prepare the data"
   ]
  },
  {
   "cell_type": "markdown",
   "metadata": {},
   "source": [
    "Now that we have the data in the dataframe we will process it to transform all its values into numerical ones.\n",
    "There are mainly two types of data that may be necessary to transform: dates and categorical values.\n",
    "We can see what type of data we have in our dataframe:"
   ]
  },
  {
   "cell_type": "code",
   "execution_count": 46,
   "metadata": {},
   "outputs": [
    {
     "data": {
      "text/plain": [
       "Date      datetime64[ns]\n",
       "Time             float64\n",
       "Size              object\n",
       "Colour            object\n",
       "Cost             float64\n",
       "Label              int64\n",
       "dtype: object"
      ]
     },
     "execution_count": 46,
     "metadata": {},
     "output_type": "execute_result"
    }
   ],
   "source": [
    "data.dtypes"
   ]
  },
  {
   "cell_type": "markdown",
   "metadata": {},
   "source": [
    "(Note that the methods we see in this section replace non-numerical values with floating point numbers _in place_, so if you run them again you will get an error since the column does not contain the expected type anymore.)"
   ]
  },
  {
   "cell_type": "markdown",
   "metadata": {},
   "source": [
    "### Dates"
   ]
  },
  {
   "cell_type": "markdown",
   "metadata": {},
   "source": [
    "A standard way to transform dates is to change them into the time passed since a specific reference time point. This is as simple as:"
   ]
  },
  {
   "cell_type": "code",
   "execution_count": 50,
   "metadata": {},
   "outputs": [
    {
     "data": {
      "text/html": [
       "<div>\n",
       "<style scoped>\n",
       "    .dataframe tbody tr th:only-of-type {\n",
       "        vertical-align: middle;\n",
       "    }\n",
       "\n",
       "    .dataframe tbody tr th {\n",
       "        vertical-align: top;\n",
       "    }\n",
       "\n",
       "    .dataframe thead th {\n",
       "        text-align: right;\n",
       "    }\n",
       "</style>\n",
       "<table border=\"1\" class=\"dataframe\">\n",
       "  <thead>\n",
       "    <tr style=\"text-align: right;\">\n",
       "      <th></th>\n",
       "      <th>Date</th>\n",
       "      <th>Time</th>\n",
       "      <th>Size</th>\n",
       "      <th>Colour</th>\n",
       "      <th>Cost</th>\n",
       "      <th>Label</th>\n",
       "    </tr>\n",
       "  </thead>\n",
       "  <tbody>\n",
       "    <tr>\n",
       "      <th>0</th>\n",
       "      <td>6.566400e+15</td>\n",
       "      <td>11.0</td>\n",
       "      <td>Small</td>\n",
       "      <td>Blue</td>\n",
       "      <td>109.521068</td>\n",
       "      <td>1</td>\n",
       "    </tr>\n",
       "    <tr>\n",
       "      <th>1</th>\n",
       "      <td>6.566400e+15</td>\n",
       "      <td>13.0</td>\n",
       "      <td>Small</td>\n",
       "      <td>Red</td>\n",
       "      <td>112.141170</td>\n",
       "      <td>1</td>\n",
       "    </tr>\n",
       "    <tr>\n",
       "      <th>2</th>\n",
       "      <td>6.566400e+15</td>\n",
       "      <td>17.0</td>\n",
       "      <td>Medium</td>\n",
       "      <td>Green</td>\n",
       "      <td>112.004677</td>\n",
       "      <td>1</td>\n",
       "    </tr>\n",
       "    <tr>\n",
       "      <th>3</th>\n",
       "      <td>6.652800e+15</td>\n",
       "      <td>9.0</td>\n",
       "      <td>Large</td>\n",
       "      <td>Green</td>\n",
       "      <td>15.112922</td>\n",
       "      <td>0</td>\n",
       "    </tr>\n",
       "    <tr>\n",
       "      <th>4</th>\n",
       "      <td>6.652800e+15</td>\n",
       "      <td>11.0</td>\n",
       "      <td>Large</td>\n",
       "      <td>Green</td>\n",
       "      <td>105.663642</td>\n",
       "      <td>1</td>\n",
       "    </tr>\n",
       "  </tbody>\n",
       "</table>\n",
       "</div>"
      ],
      "text/plain": [
       "           Date  Time    Size Colour        Cost  Label\n",
       "0  6.566400e+15  11.0   Small   Blue  109.521068      1\n",
       "1  6.566400e+15  13.0   Small    Red  112.141170      1\n",
       "2  6.566400e+15  17.0  Medium  Green  112.004677      1\n",
       "3  6.652800e+15   9.0   Large  Green   15.112922      0\n",
       "4  6.652800e+15  11.0   Large  Green  105.663642      1"
      ]
     },
     "execution_count": 50,
     "metadata": {},
     "output_type": "execute_result"
    }
   ],
   "source": [
    "time0 = pd.Timestamp('2020-08-01 00:00:00')\n",
    "data['Date'] = (data['Date'] - time0).values.astype(float)\n",
    "data.head()"
   ]
  },
  {
   "cell_type": "markdown",
   "metadata": {},
   "source": [
    "### Categorical values"
   ]
  },
  {
   "cell_type": "markdown",
   "metadata": {},
   "source": [
    "Categorical values are non numerical values that may or may not have an ordinal relationship. If they have an ordinal relationship (for example: low, mid, high or small, big), a simple approach is to transform directly to numerical value respecting the order (although this will impose an arbitrary distance between the values)."
   ]
  },
  {
   "cell_type": "markdown",
   "metadata": {},
   "source": [
    "Pandas allows use to do this using a dictionary and the method `replace`."
   ]
  },
  {
   "cell_type": "code",
   "execution_count": 54,
   "metadata": {},
   "outputs": [
    {
     "name": "stderr",
     "output_type": "stream",
     "text": [
      "/tmp/ipykernel_116921/4016966426.py:2: FutureWarning: Downcasting behavior in `replace` is deprecated and will be removed in a future version. To retain the old behavior, explicitly call `result.infer_objects(copy=False)`. To opt-in to the future behavior, set `pd.set_option('future.no_silent_downcasting', True)`\n",
      "  data.replace(cleanup, inplace=True)\n"
     ]
    },
    {
     "data": {
      "text/html": [
       "<div>\n",
       "<style scoped>\n",
       "    .dataframe tbody tr th:only-of-type {\n",
       "        vertical-align: middle;\n",
       "    }\n",
       "\n",
       "    .dataframe tbody tr th {\n",
       "        vertical-align: top;\n",
       "    }\n",
       "\n",
       "    .dataframe thead th {\n",
       "        text-align: right;\n",
       "    }\n",
       "</style>\n",
       "<table border=\"1\" class=\"dataframe\">\n",
       "  <thead>\n",
       "    <tr style=\"text-align: right;\">\n",
       "      <th></th>\n",
       "      <th>Date</th>\n",
       "      <th>Time</th>\n",
       "      <th>Size</th>\n",
       "      <th>Colour</th>\n",
       "      <th>Cost</th>\n",
       "      <th>Label</th>\n",
       "    </tr>\n",
       "  </thead>\n",
       "  <tbody>\n",
       "    <tr>\n",
       "      <th>0</th>\n",
       "      <td>6.566400e+15</td>\n",
       "      <td>11.0</td>\n",
       "      <td>0</td>\n",
       "      <td>Blue</td>\n",
       "      <td>109.521068</td>\n",
       "      <td>1</td>\n",
       "    </tr>\n",
       "    <tr>\n",
       "      <th>1</th>\n",
       "      <td>6.566400e+15</td>\n",
       "      <td>13.0</td>\n",
       "      <td>0</td>\n",
       "      <td>Red</td>\n",
       "      <td>112.141170</td>\n",
       "      <td>1</td>\n",
       "    </tr>\n",
       "    <tr>\n",
       "      <th>2</th>\n",
       "      <td>6.566400e+15</td>\n",
       "      <td>17.0</td>\n",
       "      <td>1</td>\n",
       "      <td>Green</td>\n",
       "      <td>112.004677</td>\n",
       "      <td>1</td>\n",
       "    </tr>\n",
       "    <tr>\n",
       "      <th>3</th>\n",
       "      <td>6.652800e+15</td>\n",
       "      <td>9.0</td>\n",
       "      <td>2</td>\n",
       "      <td>Green</td>\n",
       "      <td>15.112922</td>\n",
       "      <td>0</td>\n",
       "    </tr>\n",
       "    <tr>\n",
       "      <th>4</th>\n",
       "      <td>6.652800e+15</td>\n",
       "      <td>11.0</td>\n",
       "      <td>2</td>\n",
       "      <td>Green</td>\n",
       "      <td>105.663642</td>\n",
       "      <td>1</td>\n",
       "    </tr>\n",
       "  </tbody>\n",
       "</table>\n",
       "</div>"
      ],
      "text/plain": [
       "           Date  Time  Size Colour        Cost  Label\n",
       "0  6.566400e+15  11.0     0   Blue  109.521068      1\n",
       "1  6.566400e+15  13.0     0    Red  112.141170      1\n",
       "2  6.566400e+15  17.0     1  Green  112.004677      1\n",
       "3  6.652800e+15   9.0     2  Green   15.112922      0\n",
       "4  6.652800e+15  11.0     2  Green  105.663642      1"
      ]
     },
     "execution_count": 54,
     "metadata": {},
     "output_type": "execute_result"
    }
   ],
   "source": [
    "cleanup = {\"Size\": {\"Small\":0, \"Medium\":1, \"Large\":2}}\n",
    "data.replace(cleanup, inplace=True)\n",
    "data.head()"
   ]
  },
  {
   "cell_type": "markdown",
   "metadata": {},
   "source": [
    "This method should not be used with categorical values with no ordinal relationship, for example the colour. Is red bigger than blue?\n",
    "\n",
    "\n",
    "If we treat them as having ordinal relationship some algorithms may be unaffected by this. However, most algorithms will suffer (in terms of accuracy) when using this practice.\n",
    "The 'proper' way to deal with such values is to create a number of variables equal to the the number of different values that the categorical value may take, and then set all to 0 except for one that will set to 1. This is called 'one-hot' encoding. In our case it would be somthing like:\n",
    "\n",
    "Red -> \\[0, 0, 1\\]\n",
    "\n",
    "Blue -> \\[1, 0, 0\\]\n",
    "\n",
    "Green -> \\[0, 1, 0\\]\n",
    "\n",
    "Fortunately, pandas makes this easy with the method `get_dummies`."
   ]
  },
  {
   "cell_type": "code",
   "execution_count": 56,
   "metadata": {},
   "outputs": [
    {
     "data": {
      "text/html": [
       "<div>\n",
       "<style scoped>\n",
       "    .dataframe tbody tr th:only-of-type {\n",
       "        vertical-align: middle;\n",
       "    }\n",
       "\n",
       "    .dataframe tbody tr th {\n",
       "        vertical-align: top;\n",
       "    }\n",
       "\n",
       "    .dataframe thead th {\n",
       "        text-align: right;\n",
       "    }\n",
       "</style>\n",
       "<table border=\"1\" class=\"dataframe\">\n",
       "  <thead>\n",
       "    <tr style=\"text-align: right;\">\n",
       "      <th></th>\n",
       "      <th>Date</th>\n",
       "      <th>Time</th>\n",
       "      <th>Size</th>\n",
       "      <th>Cost</th>\n",
       "      <th>Label</th>\n",
       "      <th>Colour_Blue</th>\n",
       "      <th>Colour_Green</th>\n",
       "      <th>Colour_Red</th>\n",
       "    </tr>\n",
       "  </thead>\n",
       "  <tbody>\n",
       "    <tr>\n",
       "      <th>0</th>\n",
       "      <td>6.566400e+15</td>\n",
       "      <td>11.0</td>\n",
       "      <td>0</td>\n",
       "      <td>109.521068</td>\n",
       "      <td>1</td>\n",
       "      <td>True</td>\n",
       "      <td>False</td>\n",
       "      <td>False</td>\n",
       "    </tr>\n",
       "    <tr>\n",
       "      <th>1</th>\n",
       "      <td>6.566400e+15</td>\n",
       "      <td>13.0</td>\n",
       "      <td>0</td>\n",
       "      <td>112.141170</td>\n",
       "      <td>1</td>\n",
       "      <td>False</td>\n",
       "      <td>False</td>\n",
       "      <td>True</td>\n",
       "    </tr>\n",
       "    <tr>\n",
       "      <th>2</th>\n",
       "      <td>6.566400e+15</td>\n",
       "      <td>17.0</td>\n",
       "      <td>1</td>\n",
       "      <td>112.004677</td>\n",
       "      <td>1</td>\n",
       "      <td>False</td>\n",
       "      <td>True</td>\n",
       "      <td>False</td>\n",
       "    </tr>\n",
       "    <tr>\n",
       "      <th>3</th>\n",
       "      <td>6.652800e+15</td>\n",
       "      <td>9.0</td>\n",
       "      <td>2</td>\n",
       "      <td>15.112922</td>\n",
       "      <td>0</td>\n",
       "      <td>False</td>\n",
       "      <td>True</td>\n",
       "      <td>False</td>\n",
       "    </tr>\n",
       "    <tr>\n",
       "      <th>4</th>\n",
       "      <td>6.652800e+15</td>\n",
       "      <td>11.0</td>\n",
       "      <td>2</td>\n",
       "      <td>105.663642</td>\n",
       "      <td>1</td>\n",
       "      <td>False</td>\n",
       "      <td>True</td>\n",
       "      <td>False</td>\n",
       "    </tr>\n",
       "  </tbody>\n",
       "</table>\n",
       "</div>"
      ],
      "text/plain": [
       "           Date  Time  Size        Cost  Label  Colour_Blue  Colour_Green  \\\n",
       "0  6.566400e+15  11.0     0  109.521068      1         True         False   \n",
       "1  6.566400e+15  13.0     0  112.141170      1        False         False   \n",
       "2  6.566400e+15  17.0     1  112.004677      1        False          True   \n",
       "3  6.652800e+15   9.0     2   15.112922      0        False          True   \n",
       "4  6.652800e+15  11.0     2  105.663642      1        False          True   \n",
       "\n",
       "   Colour_Red  \n",
       "0       False  \n",
       "1        True  \n",
       "2       False  \n",
       "3       False  \n",
       "4       False  "
      ]
     },
     "execution_count": 56,
     "metadata": {},
     "output_type": "execute_result"
    }
   ],
   "source": [
    "data = pd.get_dummies(data, columns= ['Colour'])\n",
    "data.head()"
   ]
  },
  {
   "cell_type": "markdown",
   "metadata": {},
   "source": [
    "We can now confirm that all columns have been converted to numeric types."
   ]
  },
  {
   "cell_type": "code",
   "execution_count": 58,
   "metadata": {
    "scrolled": true
   },
   "outputs": [
    {
     "data": {
      "text/plain": [
       "Date            float64\n",
       "Time            float64\n",
       "Size              int64\n",
       "Cost            float64\n",
       "Label             int64\n",
       "Colour_Blue        bool\n",
       "Colour_Green       bool\n",
       "Colour_Red         bool\n",
       "dtype: object"
      ]
     },
     "execution_count": 58,
     "metadata": {},
     "output_type": "execute_result"
    }
   ],
   "source": [
    "data.dtypes"
   ]
  },
  {
   "cell_type": "markdown",
   "metadata": {},
   "source": [
    "Finally we want to transfer our data to two numpy arrays, one containing the variables (features) and another the labels (ground truth)."
   ]
  },
  {
   "cell_type": "code",
   "execution_count": 60,
   "metadata": {},
   "outputs": [
    {
     "name": "stdout",
     "output_type": "stream",
     "text": [
      "(33, 7) (33,)\n"
     ]
    }
   ],
   "source": [
    "import numpy as np\n",
    "x = data.loc[:, data.columns != 'Label'].astype(float).to_numpy()\n",
    "y = data.loc[:, 'Label'].to_numpy()\n",
    "print(x.shape, y.shape)"
   ]
  },
  {
   "cell_type": "markdown",
   "metadata": {},
   "source": [
    "## Data Visualization"
   ]
  },
  {
   "cell_type": "markdown",
   "metadata": {},
   "source": [
    "It is good practice to visualize the data to see if there is something obviously wrong. The matplotlib library includes a number of useful visualisation tools to help us. Getting familiar with this library (or a similar one) and its functions is a first step become a data scientist. Among the many functions make sure you become familiar with scatter, plot, and bar!"
   ]
  },
  {
   "cell_type": "markdown",
   "metadata": {},
   "source": [
    "### False predictors"
   ]
  },
  {
   "cell_type": "markdown",
   "metadata": {},
   "source": [
    "In some ocassions we may have a variable that is a false predictor, meaning that it's been introduced in the data by mistake and contains information about the label. Let's imagine that we have a dataset of clients of a bank, and we want to predict if a client will buy an add-on insurance. One of the variables could be how much the client pays to the bank for its services. If this price includes the cost of the insurance, this will result in a variable that may have a strong prediction power but won't work during the deployment because we will detect only the clients that already have an insurance."
   ]
  },
  {
   "cell_type": "markdown",
   "metadata": {},
   "source": [
    "In our data there is one false predictor, could you point which one looking at the plots?"
   ]
  },
  {
   "cell_type": "code",
   "execution_count": 66,
   "metadata": {},
   "outputs": [
    {
     "data": {
      "image/png": "[encoded data removed]",
      "text/plain": [
       "<Figure size 800x600 with 7 Axes>"
      ]
     },
     "metadata": {},
     "output_type": "display_data"
    }
   ],
   "source": [
    "import matplotlib.pyplot as plt\n",
    "\n",
    "plt.figure(figsize=(8,6))\n",
    "for i in range(x.shape[1]):\n",
    "    plt.subplot(3, 3, i+1)\n",
    "    plt.scatter(y,x[:,i])\n",
    "    plt.xticks([0, 1])\n",
    "    plt.title(data.columns[i])"
   ]
  },
  {
   "cell_type": "markdown",
   "metadata": {},
   "source": [
    "## Cross-validation\n",
    "Learning the parameters of a prediction function and testing it on the same data is a methodological mistake: a model may memorise the training data perfectly and have a perfect score but would fail to predict anything useful on yet-unseen data. This situation is called overfitting. To avoid it, when performing a (supervised) machine learning task, it is common practice to hold out part of the available data as a test set, which we will store in the variables `X_test` and `y_test`. "
   ]
  },
  {
   "cell_type": "markdown",
   "metadata": {},
   "source": [
    "Conceptually, we need to simulate the future situation, where we have trained our system with some data and, then, we apply it to some unseen data. However, to get better estimates of the accuracy of our model on new data, it is good practice to repeat the procedure after rotating which part of the data are used for train and which for testing. One such methos is called *cross-validation* and helps reduce the variability in estimating the accuracy on new data."
   ]
  },
  {
   "cell_type": "markdown",
   "metadata": {},
   "source": [
    "Scikit-learn is a library for machine learning (more on this in the next lab). It has a collection of classes which can be used to generate lists of train/test indices for popular cross-validation strategies.\n",
    "\n",
    "They expose a `split` method which accepts the input dataset to be split and yields the train/test set indices for each iteration of the chosen cross-validation strategy."
   ]
  },
  {
   "cell_type": "code",
   "execution_count": 70,
   "metadata": {},
   "outputs": [
    {
     "name": "stdout",
     "output_type": "stream",
     "text": [
      "Train: [ 7  8  9 10 11 12 13 14 15 16 17 18 19 20 21 22 23 24 25 26 27 28 29 30\n",
      " 31 32] | test: [0 1 2 3 4 5 6]\n",
      "Train: [ 0  1  2  3  4  5  6 14 15 16 17 18 19 20 21 22 23 24 25 26 27 28 29 30\n",
      " 31 32] | test: [ 7  8  9 10 11 12 13]\n",
      "Train: [ 0  1  2  3  4  5  6  7  8  9 10 11 12 13 21 22 23 24 25 26 27 28 29 30\n",
      " 31 32] | test: [14 15 16 17 18 19 20]\n",
      "Train: [ 0  1  2  3  4  5  6  7  8  9 10 11 12 13 14 15 16 17 18 19 20 27 28 29\n",
      " 30 31 32] | test: [21 22 23 24 25 26]\n",
      "Train: [ 0  1  2  3  4  5  6  7  8  9 10 11 12 13 14 15 16 17 18 19 20 21 22 23\n",
      " 24 25 26] | test: [27 28 29 30 31 32]\n"
     ]
    }
   ],
   "source": [
    "from sklearn.model_selection import KFold\n",
    "\n",
    "k_fold = KFold(n_splits=5)\n",
    "for train_indices, test_indices in k_fold.split(x):\n",
    "    print('Train: %s | test: %s' % (train_indices, test_indices))"
   ]
  },
  {
   "cell_type": "markdown",
   "metadata": {},
   "source": [
    "Graphically, we can represent the cross validation loop as follows (where 'O' reprersents a training sample and '•' a test one):"
   ]
  },
  {
   "cell_type": "code",
   "execution_count": 72,
   "metadata": {},
   "outputs": [
    {
     "name": "stdout",
     "output_type": "stream",
     "text": [
      "•••••••OOOOOOOOOOOOOOOOOOOOOOOOOO\n",
      "OOOOOOO•••••••OOOOOOOOOOOOOOOOOOO\n",
      "OOOOOOOOOOOOOO•••••••OOOOOOOOOOOO\n",
      "OOOOOOOOOOOOOOOOOOOOO••••••OOOOOO\n",
      "OOOOOOOOOOOOOOOOOOOOOOOOOOO••••••\n"
     ]
    }
   ],
   "source": [
    "for train_indices, test_indices in k_fold.split(x):\n",
    "    for i in range(len(x)):\n",
    "        print('O' if i in train_indices else '•', end='')\n",
    "    print('')"
   ]
  },
  {
   "cell_type": "markdown",
   "metadata": {},
   "source": [
    "Cross-validation is the cornerstone of supervised machine learning design. All the data-dependent manipulations (not only classification, but also pre-processing) must happen inside Cross-Validation loops when analysing the performance of a system."
   ]
  },
  {
   "cell_type": "markdown",
   "metadata": {},
   "source": [
    "Multiple cross-validation loops can be nested when performing hyper-paramether fitting. We will explore this in the next lab. See this [link](https://stats.stackexchange.com/q/292179) for a graphical representation of nested cross-validation."
   ]
  },
  {
   "cell_type": "markdown",
   "metadata": {},
   "source": [
    "The `Kfold` class in sklearn, has another paramether, shuffle. Read the documentation about it and explore what changes when its value is True."
   ]
  },
  {
   "cell_type": "markdown",
   "metadata": {},
   "source": [
    "## Pre-processing"
   ]
  },
  {
   "cell_type": "markdown",
   "metadata": {},
   "source": [
    "### Missing data"
   ]
  },
  {
   "cell_type": "markdown",
   "metadata": {},
   "source": [
    "It is common to have missing values in some of the variables. We can see this counting the number of NaN (Not a Number) in our dataset:"
   ]
  },
  {
   "cell_type": "code",
   "execution_count": 79,
   "metadata": {},
   "outputs": [
    {
     "data": {
      "text/plain": [
       "array([0, 4, 0, 0, 0, 0, 0])"
      ]
     },
     "execution_count": 79,
     "metadata": {},
     "output_type": "execute_result"
    }
   ],
   "source": [
    "np.sum(np.isnan(x), 0)"
   ]
  },
  {
   "cell_type": "markdown",
   "metadata": {},
   "source": [
    "Here we can see that the second variable in our dataset has some values that are missing."
   ]
  },
  {
   "cell_type": "markdown",
   "metadata": {},
   "source": [
    "#### Default value"
   ]
  },
  {
   "cell_type": "markdown",
   "metadata": {},
   "source": [
    "The fastest and easiest way to deal with missing data, is to assing a default value (ex. 0). This is possible if we know something about the variable and which may be a good default value, but sometimes we don't."
   ]
  },
  {
   "cell_type": "markdown",
   "metadata": {},
   "source": [
    "#### Data-driven value"
   ]
  },
  {
   "cell_type": "markdown",
   "metadata": {},
   "source": [
    "A better option, is to use a value that is derived from the data, such as the mean, median or other statistical value. However, as mentioned before, this should happen inside the cross-validation (i.e. any value used for imputation must be computed using only the training data)."
   ]
  },
  {
   "cell_type": "markdown",
   "metadata": {},
   "source": [
    "Here we calculate the mean of the second variable in our dataset for different folds. We use the function `nanmean` from numpy to calculate the mean of an array containing NaN values."
   ]
  },
  {
   "cell_type": "code",
   "execution_count": 86,
   "metadata": {},
   "outputs": [
    {
     "name": "stdout",
     "output_type": "stream",
     "text": [
      "12.272727272727273\n",
      "12.130434782608695\n",
      "12.304347826086957\n",
      "12.416666666666666\n",
      "12.416666666666666\n"
     ]
    }
   ],
   "source": [
    "k_fold = KFold(n_splits=5)\n",
    "for train_indices, test_indices in k_fold.split(x):\n",
    "    print(np.nanmean(x[train_indices, 1]))"
   ]
  },
  {
   "cell_type": "markdown",
   "metadata": {},
   "source": [
    "As you can see the value of that mean differs for each fold. This is why is important to do it inside the fold validation loop."
   ]
  },
  {
   "cell_type": "markdown",
   "metadata": {},
   "source": [
    "### Data transformation"
   ]
  },
  {
   "cell_type": "markdown",
   "metadata": {},
   "source": [
    "Many algorithms work better when the data are inside a specific range, or when all the data have similar ranges. This is not the case for all the algorithms (some work equally well with unnormalised or normalised data)."
   ]
  },
  {
   "cell_type": "markdown",
   "metadata": {},
   "source": [
    "#### Data-clipping"
   ]
  },
  {
   "cell_type": "markdown",
   "metadata": {},
   "source": [
    "One option is to just set predefined maximum and minimum values. For this, we can use the `clip` method from numpy."
   ]
  },
  {
   "cell_type": "markdown",
   "metadata": {},
   "source": [
    "#### Scaling and Normalization"
   ]
  },
  {
   "cell_type": "markdown",
   "metadata": {},
   "source": [
    "In the same way, as with the missing data, a better practice is to perfform this procedure in a data-driven manner. For this, sklearn provides several options in its 'preprocessing' package. As before, this normalisation step should be included inside the cross validation loop as well."
   ]
  },
  {
   "cell_type": "code",
   "execution_count": 94,
   "metadata": {},
   "outputs": [],
   "source": [
    "from sklearn.preprocessing import StandardScaler\n",
    "k_fold = KFold(n_splits=5)\n",
    "x_or = x.copy() # We make a copy of our data to avoid overwriting\n",
    "for train_indices, test_indices in k_fold.split(x):\n",
    "    mean = np.nanmean(x_or[train_indices, 1])\n",
    "    x[np.isnan(x_or[:,1]), 1] = mean # We substitute the missing values for the mean\n",
    "    ss = StandardScaler()\n",
    "    ss.fit(x[train_indices, :])\n",
    "    x_train = ss.transform(x[train_indices, :])\n",
    "    x_test = ss.transform(x[test_indices, :])"
   ]
  },
  {
   "cell_type": "markdown",
   "metadata": {},
   "source": [
    "In this example we see something that is common in many methods in the sklearn package, the division between `fit` and `transform`. These allow to the creation of pipelines which help streamline the modeling of different methods."
   ]
  }
 ],
 "metadata": {
  "kernelspec": {
   "display_name": "Python 3 (ipykernel)",
   "language": "python",
   "name": "python3"
  },
  "language_info": {
   "codemirror_mode": {
    "name": "ipython",
    "version": 3
   },
   "file_extension": ".py",
   "mimetype": "text/x-python",
   "name": "python",
   "nbconvert_exporter": "python",
   "pygments_lexer": "ipython3",
   "version": "3.12.4"
  }
 },
 "nbformat": 4,
 "nbformat_minor": 4
}
