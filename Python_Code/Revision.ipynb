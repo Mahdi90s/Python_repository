{
 "cells": [
  {
   "cell_type": "markdown",
   "metadata": {},
   "source": [
    "# Class"
   ]
  },
  {
   "cell_type": "code",
   "execution_count": 6,
   "metadata": {},
   "outputs": [],
   "source": [
    "class Dog:\n",
    "    pass\n"
   ]
  },
  {
   "cell_type": "code",
   "execution_count": null,
   "metadata": {},
   "outputs": [
    {
     "ename": "NameError",
     "evalue": "name 'info' is not defined",
     "output_type": "error",
     "traceback": [
      "\u001b[0;31m---------------------------------------------------------------------------\u001b[0m",
      "\u001b[0;31mNameError\u001b[0m                                 Traceback (most recent call last)",
      "Cell \u001b[0;32mIn[7], line 4\u001b[0m\n\u001b[1;32m      1\u001b[0m \u001b[38;5;28;01mclass\u001b[39;00m \u001b[38;5;21;01mDog\u001b[39;00m:\n\u001b[1;32m      2\u001b[0m     info \u001b[38;5;241m=\u001b[39m \u001b[38;5;124m\"\u001b[39m\u001b[38;5;124mA furry little creature\u001b[39m\u001b[38;5;124m\"\u001b[39m\n\u001b[0;32m----> 4\u001b[0m \u001b[38;5;28mprint\u001b[39m (info)\n",
      "\u001b[0;31mNameError\u001b[0m: name 'info' is not defined"
     ]
    }
   ],
   "source": [
    "class Dog:\n",
    "    info = \"A furry little creature\"\n",
    "    \n",
    "print (info)"
   ]
  },
  {
   "cell_type": "code",
   "execution_count": 8,
   "metadata": {},
   "outputs": [
    {
     "name": "stdout",
     "output_type": "stream",
     "text": [
      "A furry little creature\n"
     ]
    }
   ],
   "source": [
    "class Dog:\n",
    "    info = \"A furry little creature\"\n",
    "    \n",
    "print (Dog.info)"
   ]
  },
  {
   "cell_type": "code",
   "execution_count": null,
   "metadata": {},
   "outputs": [
    {
     "name": "stdout",
     "output_type": "stream",
     "text": [
      "['bed', 'desk', 'chair']\n"
     ]
    }
   ],
   "source": [
    "class Room():\n",
    "    objects = ['bed', 'desk', 'chair']\n",
    "    \n",
    "print(Room.objects)"
   ]
  },
  {
   "cell_type": "markdown",
   "metadata": {},
   "source": [
    "### Instances(Objects)"
   ]
  },
  {
   "cell_type": "code",
   "execution_count": null,
   "metadata": {},
   "outputs": [
    {
     "name": "stdout",
     "output_type": "stream",
     "text": [
      "I'm alive!\n"
     ]
    },
    {
     "data": {
      "text/plain": [
       "<__main__.Dog at 0x7876659b40e0>"
      ]
     },
     "execution_count": 12,
     "metadata": {},
     "output_type": "execute_result"
    }
   ],
   "source": [
    "class Dog:\n",
    "    info = \"A furry little creature\"\n",
    "    \n",
    "    def __init__(self):\n",
    "        print(\"I'm alive!\")\n",
    "\n",
    "\n",
    "\n",
    "Dog()"
   ]
  },
  {
   "cell_type": "code",
   "execution_count": null,
   "metadata": {},
   "outputs": [
    {
     "name": "stdout",
     "output_type": "stream",
     "text": [
      "I'm alive!\n",
      "9\n"
     ]
    },
    {
     "data": {
      "text/plain": [
       "<__main__.Dog at 0x78766444b770>"
      ]
     },
     "execution_count": 19,
     "metadata": {},
     "output_type": "execute_result"
    }
   ],
   "source": [
    "import random\n",
    "class Dog:\n",
    "    info = \"A furry little creature\"\n",
    "    \n",
    "    def __init__(self):\n",
    "        print(\"I'm alive!\")\n",
    "        print (random.randint(1, 10))\n",
    "\n",
    "\n",
    "Dog()"
   ]
  },
  {
   "cell_type": "code",
   "execution_count": 21,
   "metadata": {},
   "outputs": [
    {
     "name": "stdout",
     "output_type": "stream",
     "text": [
      "I'm alive!\n",
      "I'm alive!\n",
      "4\n",
      "1\n"
     ]
    }
   ],
   "source": [
    "import random\n",
    "class Dog:\n",
    "    info = \"A furry little creature\"\n",
    "    \n",
    "    def __init__(self):\n",
    "        print(\"I'm alive!\")\n",
    "        self.lucky_num =random.randint(1, 10) # instance\n",
    "\n",
    "\n",
    "dog1 = Dog()\n",
    "dog2 = Dog()\n",
    "\n",
    "print(dog1.lucky_num)\n",
    "print(dog2.lucky_num)"
   ]
  },
  {
   "cell_type": "code",
   "execution_count": null,
   "metadata": {},
   "outputs": [
    {
     "name": "stdout",
     "output_type": "stream",
     "text": [
      "I'm alive!\n",
      "I'm alive!\n",
      "7\n",
      "7\n",
      "Fido\n"
     ]
    },
    {
     "ename": "AttributeError",
     "evalue": "'Dog' object has no attribute 'name'",
     "output_type": "error",
     "traceback": [
      "\u001b[0;31m---------------------------------------------------------------------------\u001b[0m",
      "\u001b[0;31mAttributeError\u001b[0m                            Traceback (most recent call last)",
      "Cell \u001b[0;32mIn[23], line 19\u001b[0m\n\u001b[1;32m     16\u001b[0m dog1\u001b[38;5;241m.\u001b[39mname \u001b[38;5;241m=\u001b[39m \u001b[38;5;124m\"\u001b[39m\u001b[38;5;124mFido\u001b[39m\u001b[38;5;124m\"\u001b[39m\n\u001b[1;32m     18\u001b[0m \u001b[38;5;28mprint\u001b[39m(dog1\u001b[38;5;241m.\u001b[39mname)\n\u001b[0;32m---> 19\u001b[0m \u001b[38;5;28mprint\u001b[39m(dog2\u001b[38;5;241m.\u001b[39mname)\n",
      "\u001b[0;31mAttributeError\u001b[0m: 'Dog' object has no attribute 'name'"
     ]
    }
   ],
   "source": [
    "import random\n",
    "class Dog:\n",
    "    info = \"A furry little creature\"\n",
    "    \n",
    "    def __init__(self):\n",
    "        print(\"I'm alive!\")\n",
    "        self.lucky_num =random.randint(1, 10) # instance\n",
    "\n",
    "\n",
    "dog1 = Dog()\n",
    "dog2 = Dog()\n",
    "\n",
    "print(dog1.lucky_num)\n",
    "print(dog2.lucky_num)\n",
    "\n",
    "dog1.name = \"Fido\"\n",
    "\n",
    "print(dog1.name)\n",
    "print(dog2.name)"
   ]
  },
  {
   "cell_type": "code",
   "execution_count": 26,
   "metadata": {},
   "outputs": [
    {
     "name": "stdout",
     "output_type": "stream",
     "text": [
      "I'm alive!\n",
      "I'm alive!\n",
      "Fido\n",
      "Sarah\n"
     ]
    }
   ],
   "source": [
    "import random\n",
    "class Dog:\n",
    "    info = \"A furry little creature\"\n",
    "    \n",
    "    def __init__(self, name):\n",
    "        print(\"I'm alive!\")\n",
    "        self.lucky_num =random.randint(1, 10) # instance\n",
    "        self.name = name\n",
    "\n",
    "\n",
    "dog1 = Dog(\"Fido\")\n",
    "dog2 = Dog(\"Sarah\")\n",
    "\n",
    "print(dog1.name)\n",
    "print(dog2.name)\n",
    "\n"
   ]
  },
  {
   "cell_type": "code",
   "execution_count": 27,
   "metadata": {},
   "outputs": [
    {
     "name": "stdout",
     "output_type": "stream",
     "text": [
      "Red\n"
     ]
    }
   ],
   "source": [
    "class Room():\n",
    "    objects = ['bed', 'desk', 'chair']\n",
    "    \n",
    "    def __init__(self, name):\n",
    "        self.pen = random.randint(1, 20)\n",
    "        self.name = name\n",
    "    \n",
    "pen = Room(\"Red\")\n",
    "\n",
    "\n",
    "print(pen.name)"
   ]
  },
  {
   "cell_type": "markdown",
   "metadata": {},
   "source": [
    "### Methods"
   ]
  },
  {
   "cell_type": "code",
   "execution_count": 35,
   "metadata": {},
   "outputs": [
    {
     "name": "stdout",
     "output_type": "stream",
     "text": [
      "I'm alive!\n",
      "I'm alive!\n",
      "woof! My name is Fido and my number is 1\n",
      "woof! My name is Sarah and my number is 6\n"
     ]
    }
   ],
   "source": [
    "import random\n",
    "class Dog:\n",
    "    info = \"A furry little creature\"\n",
    "    \n",
    "    def __init__(self, name):\n",
    "        print(\"I'm alive!\")\n",
    "        self.lucky_num =random.randint(1, 10) # instance\n",
    "        self.name = name\n",
    "        \n",
    "    def bark(self):\n",
    "        print(f\"woof! My name is {self.name} and my number is {self.lucky_num}\")\n",
    "\n",
    "dog1 = Dog(\"Fido\")\n",
    "dog2 = Dog(\"Sarah\")\n",
    "\n",
    "dog1.bark()\n",
    "dog2.bark()"
   ]
  },
  {
   "cell_type": "code",
   "execution_count": 48,
   "metadata": {},
   "outputs": [
    {
     "name": "stdout",
     "output_type": "stream",
     "text": [
      "There is a Red pen on my desk\n"
     ]
    },
    {
     "data": {
      "text/plain": [
       "1"
      ]
     },
     "execution_count": 48,
     "metadata": {},
     "output_type": "execute_result"
    }
   ],
   "source": [
    "class Room():\n",
    "    objects = ['bed', 'desk', 'chair']\n",
    "    \n",
    "    def __init__(self, name):\n",
    "        self.pen = random.randint(1, 20)\n",
    "        self.name = name\n",
    "    \n",
    "    def desk(self):\n",
    "        print(f\"There is a {self.name} pen on my desk\")\n",
    "        return self.pen * 1\n",
    "    \n",
    "pen = Room(\"Red\")\n",
    "\n",
    "pen.desk()\n",
    "\n",
    "\n"
   ]
  },
  {
   "cell_type": "markdown",
   "metadata": {},
   "source": [
    "### Inheritance"
   ]
  },
  {
   "cell_type": "code",
   "execution_count": null,
   "metadata": {},
   "outputs": [
    {
     "name": "stdout",
     "output_type": "stream",
     "text": [
      "I'm alive!\n",
      "A furry little creature\n"
     ]
    }
   ],
   "source": [
    "import random\n",
    "\n",
    "class Animal:\n",
    "    info = \"A living organism that feeds on organix matter\"\n",
    "\n",
    "class Dog(Animal):\n",
    "    #info = \"A furry little creature\"\n",
    "    \n",
    "    def __init__(self, name):\n",
    "        print(\"I'm alive!\")\n",
    "        self.lucky_num =random.randint(1, 10) # instance\n",
    "        self.name = name\n",
    "        \n",
    "    def bark(self):\n",
    "        print(f\"woof! My name is {self.name} and my number is {self.lucky_num}\")\n",
    "\n",
    "dog1 = Dog(\"Fido\")\n",
    "\n",
    "print(dog1.info)"
   ]
  },
  {
   "cell_type": "code",
   "execution_count": null,
   "metadata": {},
   "outputs": [
    {
     "name": "stdout",
     "output_type": "stream",
     "text": [
      "An animal is created\n",
      "A dog is created\n",
      "A living organism that feeds on organix matter\n"
     ]
    }
   ],
   "source": [
    "import random\n",
    "\n",
    "class Animal:\n",
    "    info = \"A living organism that feeds on organix matter\"\n",
    "\n",
    "    def __init__(self):\n",
    "        print (\"An animal is created\")\n",
    "        \n",
    "class Dog(Animal):\n",
    "    #info = \"A furry little creature\"\n",
    "    \n",
    "    def __init__(self, name):\n",
    "        super().__init__()\n",
    "        print(\"A dog is created\")\n",
    "        self.lucky_num =random.randint(1, 10) # instance\n",
    "        self.name = name\n",
    "        \n",
    "    def bark(self):\n",
    "        print(f\"woof! My name is {self.name} and my number is {self.lucky_num}\")\n",
    "\n",
    "dog1 = Dog(\"Fido\")\n",
    "\n",
    "print(dog1.info)\n"
   ]
  },
  {
   "cell_type": "code",
   "execution_count": 15,
   "metadata": {},
   "outputs": [
    {
     "name": "stdout",
     "output_type": "stream",
     "text": [
      "An animal is created\n",
      "A dog is created\n",
      "a Bulldog is created\n",
      "A living organism that feeds on organix matter\n"
     ]
    }
   ],
   "source": [
    "import random\n",
    "\n",
    "class Animal:\n",
    "    info = \"A living organism that feeds on organix matter\"\n",
    "\n",
    "    def __init__(self, name):\n",
    "        print (\"An animal is created\")\n",
    "        self.name = name\n",
    "        \n",
    "                \n",
    "class Dog(Animal):\n",
    "    #info = \"A furry little creature\"\n",
    "    \n",
    "    def __init__(self, name):\n",
    "        super().__init__(name)\n",
    "        print(\"A dog is created\")\n",
    "        self.lucky_num =random.randint(1, 10) # instance\n",
    "        self.fur = \"\"\n",
    "        \n",
    "    def bark(self):\n",
    "        print(f\"woof! My name is {self.name} and my number is {self.lucky_num}\")\n",
    "\n",
    "class Bulldog(Dog):\n",
    "    \n",
    "    def __init__(self, name):\n",
    "        super().__init__(name)\n",
    "        print(\"a Bulldog is created\")\n",
    "        \n",
    "\n",
    "dog1 = Bulldog(\"Fido\")\n",
    "\n",
    "print(dog1.info)\n"
   ]
  },
  {
   "cell_type": "code",
   "execution_count": 21,
   "metadata": {},
   "outputs": [
    {
     "name": "stdout",
     "output_type": "stream",
     "text": [
      "My home!\n"
     ]
    }
   ],
   "source": [
    "class Home():\n",
    "    info = \"The furniture in my home\"\n",
    "    \n",
    "    def __init__(self, name):\n",
    "        \n",
    "        print (\"My home!\")\n",
    "        self.name = name\n",
    "\n",
    "\n",
    "class Room():\n",
    "    objects = ['bed', 'desk', 'chair']\n",
    "    \n",
    "    def __init__(self, name):\n",
    "        super().__init__(name)\n",
    "        self.pen = random.randint(1, 20)\n",
    "        \n",
    "    \n",
    "    def desk(self):\n",
    "        print(f\"There is a {self.name} pen on my desk\")\n",
    "        return self.pen * 1\n",
    "    \n",
    "pen = Home(\"Red\")\n",
    "\n"
   ]
  },
  {
   "cell_type": "markdown",
   "metadata": {},
   "source": [
    "## APIs and JSON\n",
    "#### Requests and PIP"
   ]
  },
  {
   "cell_type": "code",
   "execution_count": 22,
   "metadata": {},
   "outputs": [],
   "source": [
    "import requests"
   ]
  },
  {
   "cell_type": "code",
   "execution_count": 23,
   "metadata": {},
   "outputs": [
    {
     "name": "stdout",
     "output_type": "stream",
     "text": [
      "<Response [200]>\n"
     ]
    }
   ],
   "source": [
    "response = requests.get(\"https://api.openweathermap.org/data/2.5/weather?lat=51.509865&lon=-0.118092&appid=b7247f3cbf355f6a2c72d0c33c1d820d\")\n",
    "\n",
    "print(response)"
   ]
  },
  {
   "cell_type": "code",
   "execution_count": 24,
   "metadata": {},
   "outputs": [
    {
     "name": "stdout",
     "output_type": "stream",
     "text": [
      "{'coord': {'lon': -0.12, 'lat': 51.51}, 'weather': [{'id': 801, 'main': 'Clouds', 'description': 'few clouds', 'icon': '02d'}], 'base': 'stations', 'main': {'temp': 286.16, 'feels_like': 285.03, 'temp_min': 284.35, 'temp_max': 286.7, 'pressure': 1023, 'humidity': 58, 'sea_level': 1023, 'grnd_level': 1019}, 'visibility': 10000, 'wind': {'speed': 4.47, 'deg': 84, 'gust': 6.71}, 'clouds': {'all': 16}, 'dt': 1743933939, 'sys': {'type': 2, 'id': 268730, 'country': 'GB', 'sunrise': 1743917050, 'sunset': 1743964869}, 'timezone': 3600, 'id': 2643743, 'name': 'London', 'cod': 200}\n"
     ]
    }
   ],
   "source": [
    "response = requests.get(\"https://api.openweathermap.org/data/2.5/weather?lat=51.509865&lon=-0.118092&appid=b7247f3cbf355f6a2c72d0c33c1d820d\")\n",
    "\n",
    "print(response.json())"
   ]
  },
  {
   "cell_type": "code",
   "execution_count": 25,
   "metadata": {},
   "outputs": [
    {
     "name": "stdout",
     "output_type": "stream",
     "text": [
      "{'coord': {'lon': -0.1181, 'lat': 51.5099}, 'weather': [{'id': 801, 'main': 'Clouds', 'description': 'few clouds', 'icon': '02d'}], 'base': 'stations', 'main': {'temp': 286.3, 'feels_like': 285.19, 'temp_min': 284.94, 'temp_max': 287.15, 'pressure': 1023, 'humidity': 58, 'sea_level': 1023, 'grnd_level': 1019}, 'visibility': 10000, 'wind': {'speed': 4.47, 'deg': 84, 'gust': 6.71}, 'clouds': {'all': 16}, 'dt': 1743934511, 'sys': {'type': 2, 'id': 268730, 'country': 'GB', 'sunrise': 1743917050, 'sunset': 1743964869}, 'timezone': 3600, 'id': 2643743, 'name': 'London', 'cod': 200}\n"
     ]
    }
   ],
   "source": [
    "try:\n",
    "    response = requests.get(\"https://api.openweathermap.org/data/2.5/weather?lat=51.509865&lon=-0.118092&appid=b7247f3cbf355f6a2c72d0c33c1d820d\")\n",
    "\n",
    "    print(response.json())\n",
    "except:\n",
    "    print (\"No Internet Access\")"
   ]
  },
  {
   "cell_type": "markdown",
   "metadata": {},
   "source": [
    "### Classes and weather"
   ]
  },
  {
   "cell_type": "code",
   "execution_count": null,
   "metadata": {},
   "outputs": [
    {
     "name": "stdout",
     "output_type": "stream",
     "text": [
      "286.82\n"
     ]
    }
   ],
   "source": [
    "try:\n",
    "    response = requests.get(\"https://api.openweathermap.org/data/2.5/weather?lat=51.509865&lon=-0.118092&appid=b7247f3cbf355f6a2c72d0c33c1d820d\")\n",
    "\n",
    "except:\n",
    "    print (\"No Internet Access\")\n",
    "    \n",
    "response_json = response.json()\n",
    "\n",
    "print (response_json[\"main\"][\"temp\"])"
   ]
  },
  {
   "cell_type": "code",
   "execution_count": 31,
   "metadata": {},
   "outputs": [
    {
     "name": "stdout",
     "output_type": "stream",
     "text": [
      "13.67\n"
     ]
    }
   ],
   "source": [
    "try:\n",
    "    response = requests.get(\"https://api.openweathermap.org/data/2.5/weather?units=metric&lat=51.509865&lon=-0.118092&appid=b7247f3cbf355f6a2c72d0c33c1d820d\") # add parameters units=metric&\n",
    "\n",
    "except:\n",
    "    print (\"No Internet Access\")\n",
    "    \n",
    "response_json = response.json()\n",
    "\n",
    "print (response_json[\"main\"][\"temp\"])"
   ]
  },
  {
   "cell_type": "code",
   "execution_count": 35,
   "metadata": {},
   "outputs": [
    {
     "name": "stdout",
     "output_type": "stream",
     "text": [
      "In London it is currently 13.67° C\n",
      "Today's High: 14.55° C\n",
      "Today's Low: 12.1° C\n"
     ]
    }
   ],
   "source": [
    "try:\n",
    "    response = requests.get(\"https://api.openweathermap.org/data/2.5/weather?units=metric&lat=51.509865&lon=-0.118092&appid=b7247f3cbf355f6a2c72d0c33c1d820d\") # add parameters units=metric&\n",
    "\n",
    "except:\n",
    "    print (\"No Internet Access\")\n",
    "    \n",
    "response_json = response.json()\n",
    "\n",
    "temp = response_json[\"main\"][\"temp\"]\n",
    "temp_min = response_json[\"main\"][\"temp_min\"]\n",
    "temp_max = response_json[\"main\"][\"temp_max\"]\n",
    "\n",
    "\n",
    "print (f\"In London it is currently {temp}° C\")\n",
    "print (f\"Today's High: {temp_max}° C\")\n",
    "print (f\"Today's Low: {temp_min}° C\")"
   ]
  },
  {
   "cell_type": "code",
   "execution_count": 42,
   "metadata": {},
   "outputs": [
    {
     "name": "stdout",
     "output_type": "stream",
     "text": [
      "In London it is currently 14.05° C\n",
      "Today's High: 15.17° C\n",
      "Today's Low: 12.34° C\n"
     ]
    }
   ],
   "source": [
    "class City:\n",
    "    def __init__(self, name, lat, lon, units=\"metric\"):\n",
    "        self.name = name\n",
    "        self.lat = lat\n",
    "        self.lon = lon \n",
    "        self.units = units\n",
    "        self.get_data()\n",
    "        \n",
    "    \n",
    "    def get_data(self):\n",
    "        try:\n",
    "            response = requests.get(f\"https://api.openweathermap.org/data/2.5/weather?units={self.units}&lat={self.lat}&lon={self.lon}&appid=b7247f3cbf355f6a2c72d0c33c1d820d\")\n",
    "\n",
    "        except:\n",
    "            print (\"No Internet Access\")\n",
    "            \n",
    "        response_json = response.json()\n",
    "        self.temp = response_json[\"main\"][\"temp\"]\n",
    "        self.temp_min = response_json[\"main\"][\"temp_min\"]\n",
    "        self.temp_max = response_json[\"main\"][\"temp_max\"]\n",
    "\n",
    "    def temp_print(self):\n",
    "        print (f\"In London it is currently {self.temp}° C\")\n",
    "        print (f\"Today's High: {self.temp_max}° C\")\n",
    "        print (f\"Today's Low: {self.temp_min}° C\")\n",
    "        \n",
    "my_city = City(\"London\", 51.509865, -0.118092)\n",
    "my_city.temp_print()    "
   ]
  },
  {
   "cell_type": "code",
   "execution_count": 46,
   "metadata": {},
   "outputs": [
    {
     "name": "stdout",
     "output_type": "stream",
     "text": [
      "In London it is currently 14.23° C\n",
      "Today's High: 15.11° C\n",
      "Today's Low: 12.34° C\n",
      "In Tokyo it is currently 59.29° F\n",
      "Today's High: 60.46° F\n",
      "Today's Low: 56.62° F\n"
     ]
    }
   ],
   "source": [
    "class City:\n",
    "    def __init__(self, name, lat, lon, units=\"metric\"):\n",
    "        self.name = name\n",
    "        self.lat = lat\n",
    "        self.lon = lon \n",
    "        self.units = units\n",
    "        self.get_data()\n",
    "        \n",
    "    \n",
    "    def get_data(self):\n",
    "        try:\n",
    "            response = requests.get(f\"https://api.openweathermap.org/data/2.5/weather?units={self.units}&lat={self.lat}&lon={self.lon}&appid=b7247f3cbf355f6a2c72d0c33c1d820d\")\n",
    "\n",
    "        except:\n",
    "            print (\"No Internet Access\")\n",
    "            \n",
    "        response_json = response.json()\n",
    "        self.temp = response_json[\"main\"][\"temp\"]\n",
    "        self.temp_min = response_json[\"main\"][\"temp_min\"]\n",
    "        self.temp_max = response_json[\"main\"][\"temp_max\"]\n",
    "\n",
    "    def temp_print(self):\n",
    "        units_symbol = \"C\"\n",
    "        if self.units == \"imperial\":\n",
    "            units_symbol = \"F\"\n",
    "        print (f\"In {self.name} it is currently {self.temp}° {units_symbol}\")\n",
    "        print (f\"Today's High: {self.temp_max}° {units_symbol}\")\n",
    "        print (f\"Today's Low: {self.temp_min}° {units_symbol}\")\n",
    "        \n",
    "my_city = City(\"London\", 51.509865, -0.118092)\n",
    "my_city.temp_print()    \n",
    "\n",
    "\n",
    "vacation_city = City(\"Tokyo\", 35.6762, 139.6503, units=\"imperial\")\n",
    "vacation_city.temp_print()"
   ]
  },
  {
   "cell_type": "markdown",
   "metadata": {},
   "source": [
    "### Advanced comparisons and IF statements"
   ]
  },
  {
   "cell_type": "code",
   "execution_count": 3,
   "metadata": {},
   "outputs": [
    {
     "name": "stdout",
     "output_type": "stream",
     "text": [
      "You can ride the bike\n",
      "You can ride the bike\n",
      "You can ride the super ride\n",
      "You can ride any ride!\n"
     ]
    }
   ],
   "source": [
    "# variables\n",
    "age = 10\n",
    "height = 160\n",
    "\n",
    "# IF to IF method 1:\n",
    "if age >= 8:\n",
    "    if height >= 135:\n",
    "        print (\"You can ride the bike\")\n",
    "    \n",
    "# IF to IF method 2:\n",
    "\n",
    "if age >= 8 and height >= 138:\n",
    "    print (\"You can ride the bike\")\n",
    "    \n",
    "# or\n",
    "if age >= 17 or height >= 160:\n",
    "    print (\"You can ride the super ride\")\n",
    "    \n",
    "# elif (else if)\n",
    "if height < 120:\n",
    "    print(\"You can't ride any rides:(\")\n",
    "elif height < 135:\n",
    "    print(\"You can ride level-1 rides.\")\n",
    "elif height < 200:\n",
    "    print(\"You can ride any ride!\")\n",
    "else:\n",
    "    print(\"Too tall to ride the rides:(\")"
   ]
  },
  {
   "cell_type": "code",
   "execution_count": 15,
   "metadata": {},
   "outputs": [
    {
     "name": "stdout",
     "output_type": "stream",
     "text": [
      "You are lucky that have iphone\n"
     ]
    }
   ],
   "source": [
    "brand = \"Iphone\"\n",
    "battary = \"20%\"\n",
    "\n",
    "if battary >= \"80%\":\n",
    "    print (\"you can use the phone\")\n",
    "    \n",
    "elif battary >= \"50%\" or brand == \"Samsong\":\n",
    "    print (\"Be careful your phone need to be charged\")\n",
    "elif battary >= \"20%\" and brand == \"Iphone\":\n",
    "    print (\"You are lucky that have iphone\")\n",
    "else:\n",
    "    print (\"Come on charge your phone\")"
   ]
  }
 ],
 "metadata": {
  "kernelspec": {
   "display_name": "base",
   "language": "python",
   "name": "python3"
  },
  "language_info": {
   "codemirror_mode": {
    "name": "ipython",
    "version": 3
   },
   "file_extension": ".py",
   "mimetype": "text/x-python",
   "name": "python",
   "nbconvert_exporter": "python",
   "pygments_lexer": "ipython3",
   "version": "3.12.4"
  }
 },
 "nbformat": 4,
 "nbformat_minor": 2
}
