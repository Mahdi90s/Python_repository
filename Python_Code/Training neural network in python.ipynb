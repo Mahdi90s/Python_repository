{
 "cells": [
  {
   "cell_type": "markdown",
   "metadata": {},
   "source": [
    "### Writing the multilayer perceptron class"
   ]
  },
  {
   "cell_type": "code",
   "execution_count": 20,
   "metadata": {},
   "outputs": [],
   "source": [
    "import numpy as np\n"
   ]
  },
  {
   "cell_type": "code",
   "execution_count": 21,
   "metadata": {},
   "outputs": [
    {
     "name": "stdout",
     "output_type": "stream",
     "text": [
      "Layer 2 Neuron 0 [-10 -10  15]\n",
      "Layer 2 Neuron 1 [ 15  15 -10]\n",
      "Layer 3 Neuron 0 [ 10  10 -15]\n",
      "\n",
      "MLP:\n",
      "0 0 = 0.0066958493\n",
      "0 1 = 0.9923558642\n",
      "1 0 = 0.9923558642\n",
      "1 1 = 0.0071528098\n"
     ]
    }
   ],
   "source": [
    "class Perceptron:\n",
    "    \"\"\"A single neuron with the sigmoid activation function.\n",
    "       Attributes:\n",
    "          inputs: The number of inputs in the perceptron, not counting the bias.\n",
    "          bias:   The bias term. By default it's 1.0.\"\"\"\n",
    "\n",
    "    def __init__(self, inputs, bias = 1.0):\n",
    "        \"\"\"Return a new Perceptron object with the specified number of inputs (+1 for the bias).\"\"\" \n",
    "        self.weights = (np.random.rand(inputs+1) * 2) - 1 \n",
    "        self.bias = bias\n",
    "\n",
    "    def run(self, x):\n",
    "        \"\"\"Run the perceptron. x is a python list with the input values.\"\"\"\n",
    "        x_sum = np.dot(np.append(x,self.bias),self.weights)\n",
    "        return self.sigmoid(x_sum)\n",
    "\n",
    "    def set_weights(self, w_init):\n",
    "        \"\"\"Set the weights. w_init is a python list with the weights.\"\"\"\n",
    "        self.weights = np.array(w_init)\n",
    "\n",
    "    def sigmoid(self, x):\n",
    "        \"\"\"Evaluate the sigmoid function for the floating point input x.\"\"\"\n",
    "        return 1/(1+np.exp(-x))\n",
    "\n",
    "class MultiLayerPerceptron:\n",
    "    \n",
    "    def __init__(self, layers, bias = 1.0):\n",
    "        self.layers = np.array(layers,dtype=object)\n",
    "        self.bias = bias\n",
    "        self.network = []\n",
    "        self.values = []\n",
    "        \n",
    "        for i in range(len(self.layers)):\n",
    "            self.values.append([])\n",
    "            self.network.append([])\n",
    "            self.values[i] = [0.0 for j in range(self.layers[i])]\n",
    "            if i > 0:\n",
    "                for j in range(self.layers[i]):\n",
    "                    self.network[i].append(Perceptron(inputs=self.layers[i-1], bias=self.bias))\n",
    "        \n",
    "        \n",
    "        self.network = np.array([np.array(x) for x in self.network],dtype=object)\n",
    "        self.values = np.array ([np.array(x) for x in self.values],dtype=object)\n",
    "        \n",
    "    def set_weights(self, w_init):\n",
    "        for i in range(len(w_init)):\n",
    "            for j in range(len(w_init[i])):\n",
    "                self.network[i+1][j].set_weights(w_init[i] [j])    \n",
    "\n",
    "    def printWeights(self):\n",
    "        for i in range(1, len(self.network)):\n",
    "            for j in range (self.layers[i]):\n",
    "                print(\"Layer\", i+1, \"Neuron\", j, self.network[i][j].weights)\n",
    "        print()\n",
    "\n",
    "    def run(self, x):\n",
    "        x = np.array(x,dtype=object)\n",
    "        self.values[0] = x\n",
    "        for i in range(1, len(self.network)):\n",
    "            for j in range(self.layers[i]):\n",
    "                self.values[i] [j] = self.network[i] [j].run(self.values[i-1])            \n",
    "        return self.values[-1]\n",
    "\n",
    "\n",
    "# Test code\n",
    "mlp = MultiLayerPerceptron(layers=[2, 2, 1])\n",
    "mlp.set_weights ([[[-10, -10, 15], [15, 15, -10]],[[10, 10, -15]]])\n",
    "mlp.printWeights()\n",
    "print(\"MLP:\")\n",
    "print (\"0 0 = {0:.10f}\".format(mlp.run([0, 0]) [0]))\n",
    "print (\"0 1 = {0:.10f}\".format(mlp.run([0, 1]) [0]))\n",
    "print (\"1 0 = {0:.10f}\".format(mlp.run([1, 0]) [0]))\n",
    "print (\"1 1 = {0:.10f}\".format(mlp.run([1, 1]) [0]))\n",
    "    \n",
    "    \n",
    "\n"
   ]
  }
 ],
 "metadata": {
  "kernelspec": {
   "display_name": "base",
   "language": "python",
   "name": "python3"
  },
  "language_info": {
   "codemirror_mode": {
    "name": "ipython",
    "version": 3
   },
   "file_extension": ".py",
   "mimetype": "text/x-python",
   "name": "python",
   "nbconvert_exporter": "python",
   "pygments_lexer": "ipython3",
   "version": "3.12.4"
  }
 },
 "nbformat": 4,
 "nbformat_minor": 2
}
