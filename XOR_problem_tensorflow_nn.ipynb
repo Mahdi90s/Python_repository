{
 "cells": [
  {
   "cell_type": "code",
   "execution_count": 2,
   "metadata": {},
   "outputs": [],
   "source": [
    "import tensorflow as tf\n",
    "import matplotlib.pyplot as plt\n",
    "import numpy as np"
   ]
  },
  {
   "cell_type": "markdown",
   "metadata": {},
   "source": [
    "# XOR Problem\n",
    "\n",
    "## What is the XOR operation?\n",
    "\n",
    "* XOR is a boolean logic operation that compares two input bits and generates one output bit. \n",
    "* IF the bits are the same (or both are true) the result is 0 (or false).\n",
    "* IF the bits are different the result is 1 (or true).\n",
    "\n",
    "## What is the XOR problem?\n",
    "\n",
    "* The XOR can be seen as a classification problem. \n",
    "*   You receive two inputs and you want to predict true or false, depending if the inputs are different or the same\n",
    "* However, the inputs are not linearly separable. That means that there is no way to use a straight line to separate the possible options an make an automated prediction correctly.\n",
    "* In the next figure we can se that it is not possible to separate the red dots and the green dots with a straight line. "
   ]
  },
  {
   "cell_type": "code",
   "execution_count": 4,
   "metadata": {},
   "outputs": [
    {
     "data": {
      "image/png": "[encoded data removed]",
      "text/plain": [
       "<Figure size 640x480 with 1 Axes>"
      ]
     },
     "metadata": {},
     "output_type": "display_data"
    }
   ],
   "source": [
    "plt.scatter([0, 0, 1, 1], [0,1,1,0], c=['red', 'green', 'red', 'green'])\n",
    "plt.show()"
   ]
  },
  {
   "cell_type": "markdown",
   "metadata": {},
   "source": [
    "# Using a Multilayer Perceptron (MLP) architecture\n",
    "\n",
    "* A MLP with an input and an output layer is not capable of solving the problem since it the result are linear solutions.\n",
    "* However, if we add a hidden layer to the MLP, the network will be capable of achieving non-linear separation and correctly predict the results.\n",
    "\n",
    "#  Training a MLP with a single hidden layer to solve the XOR problem\n"
   ]
  },
  {
   "cell_type": "code",
   "execution_count": 6,
   "metadata": {},
   "outputs": [],
   "source": [
    "# First we define the input data (X) and the output data (Y) that we are going to use for training\n",
    "X = [[0,0], [0,1], [1,0], [1,1]]\n",
    "Y = [[0],[1],[1],[0]]"
   ]
  },
  {
   "cell_type": "code",
   "execution_count": 10,
   "metadata": {},
   "outputs": [
    {
     "name": "stderr",
     "output_type": "stream",
     "text": [
      "2024-11-11 20:57:00.799102: E external/local_xla/xla/stream_executor/cuda/cuda_driver.cc:152] failed call to cuInit: INTERNAL: CUDA error: Failed call to cuInit: UNKNOWN ERROR (303)\n"
     ]
    }
   ],
   "source": [
    "# Here we define the architecture of our network. \n",
    "#   The number of neurons in the input layer is defined by the number of input values in our dataset, in this case 2. \n",
    "#   For this architecture we are going to use 2 neurons in our hidden layer.\n",
    "#   The number of neurons in the output layer is defined by the number of expected values, in this case we expect a single value 1 or 0.\n",
    "model =  tf.keras.models.Sequential() # we create a Neural Network model that is Sequential, which means each layer we add will be connected to the previous one. \n",
    "model.add(tf.keras.Input(shape=(2,))) # Input layer\n",
    "model.add(tf.keras.layers.Dense(2, activation='sigmoid')) # Hidden Layer\n",
    "model.add(tf.keras.layers.Dense(1, activation='sigmoid')) # Output Layer"
   ]
  },
  {
   "cell_type": "code",
   "execution_count": 12,
   "metadata": {},
   "outputs": [],
   "source": [
    "# We define which optimizer and which error loss are we using to update the weights of the network.\n",
    "sgd = tf.keras.optimizers.SGD(learning_rate=0.8,momentum=0.3)\n",
    "mse = tf.keras.losses.MeanSquaredError()"
   ]
  },
  {
   "cell_type": "code",
   "execution_count": 14,
   "metadata": {},
   "outputs": [],
   "source": [
    "# we compile our model \n",
    "model.compile(optimizer=sgd, loss=mse, metrics=['accuracy'])"
   ]
  },
  {
   "cell_type": "code",
   "execution_count": 16,
   "metadata": {},
   "outputs": [
    {
     "name": "stdout",
     "output_type": "stream",
     "text": [
      "[[0, 0], [0, 1], [1, 0], [1, 1]]\n",
      "[[0], [1], [1], [0]]\n"
     ]
    }
   ],
   "source": [
    "print (X)\n",
    "print (Y)"
   ]
  },
  {
   "cell_type": "code",
   "execution_count": 20,
   "metadata": {
    "scrolled": true
   },
   "outputs": [
    {
     "ename": "ValueError",
     "evalue": "Unrecognized data type: x=[[0, 0], [0, 1], [1, 0], [1, 1]] (of type <class 'list'>)",
     "output_type": "error",
     "traceback": [
      "\u001b[0;31m---------------------------------------------------------------------------\u001b[0m",
      "\u001b[0;31mValueError\u001b[0m                                Traceback (most recent call last)",
      "Cell \u001b[0;32mIn[20], line 4\u001b[0m\n\u001b[1;32m      1\u001b[0m \u001b[38;5;66;03m# After compiling the model we are able to start the training using the 'fit' function. \u001b[39;00m\n\u001b[1;32m      2\u001b[0m \u001b[38;5;66;03m# We need to make use of our training dataset (X and Y).\u001b[39;00m\n\u001b[1;32m      3\u001b[0m \u001b[38;5;66;03m# We also specify the number of epochs (or iterations) the network is going to train for.\u001b[39;00m\n\u001b[0;32m----> 4\u001b[0m model\u001b[38;5;241m.\u001b[39mfit(X, Y, epochs\u001b[38;5;241m=\u001b[39m\u001b[38;5;241m1000\u001b[39m)\n",
      "File \u001b[0;32m~/anaconda3/lib/python3.12/site-packages/keras/src/utils/traceback_utils.py:122\u001b[0m, in \u001b[0;36mfilter_traceback.<locals>.error_handler\u001b[0;34m(*args, **kwargs)\u001b[0m\n\u001b[1;32m    119\u001b[0m     filtered_tb \u001b[38;5;241m=\u001b[39m _process_traceback_frames(e\u001b[38;5;241m.\u001b[39m__traceback__)\n\u001b[1;32m    120\u001b[0m     \u001b[38;5;66;03m# To get the full stack trace, call:\u001b[39;00m\n\u001b[1;32m    121\u001b[0m     \u001b[38;5;66;03m# `keras.config.disable_traceback_filtering()`\u001b[39;00m\n\u001b[0;32m--> 122\u001b[0m     \u001b[38;5;28;01mraise\u001b[39;00m e\u001b[38;5;241m.\u001b[39mwith_traceback(filtered_tb) \u001b[38;5;28;01mfrom\u001b[39;00m \u001b[38;5;28;01mNone\u001b[39;00m\n\u001b[1;32m    123\u001b[0m \u001b[38;5;28;01mfinally\u001b[39;00m:\n\u001b[1;32m    124\u001b[0m     \u001b[38;5;28;01mdel\u001b[39;00m filtered_tb\n",
      "File \u001b[0;32m~/anaconda3/lib/python3.12/site-packages/keras/src/trainers/data_adapters/__init__.py:120\u001b[0m, in \u001b[0;36mget_data_adapter\u001b[0;34m(x, y, sample_weight, batch_size, steps_per_epoch, shuffle, class_weight)\u001b[0m\n\u001b[1;32m    112\u001b[0m     \u001b[38;5;28;01mreturn\u001b[39;00m GeneratorDataAdapter(x)\n\u001b[1;32m    113\u001b[0m     \u001b[38;5;66;03m# TODO: should we warn or not?\u001b[39;00m\n\u001b[1;32m    114\u001b[0m     \u001b[38;5;66;03m# warnings.warn(\u001b[39;00m\n\u001b[1;32m    115\u001b[0m     \u001b[38;5;66;03m#     \"`shuffle=True` was passed, but will be ignored since the \"\u001b[39;00m\n\u001b[0;32m   (...)\u001b[0m\n\u001b[1;32m    118\u001b[0m     \u001b[38;5;66;03m# )\u001b[39;00m\n\u001b[1;32m    119\u001b[0m \u001b[38;5;28;01melse\u001b[39;00m:\n\u001b[0;32m--> 120\u001b[0m     \u001b[38;5;28;01mraise\u001b[39;00m \u001b[38;5;167;01mValueError\u001b[39;00m(\u001b[38;5;124mf\u001b[39m\u001b[38;5;124m\"\u001b[39m\u001b[38;5;124mUnrecognized data type: x=\u001b[39m\u001b[38;5;132;01m{\u001b[39;00mx\u001b[38;5;132;01m}\u001b[39;00m\u001b[38;5;124m (of type \u001b[39m\u001b[38;5;132;01m{\u001b[39;00m\u001b[38;5;28mtype\u001b[39m(x)\u001b[38;5;132;01m}\u001b[39;00m\u001b[38;5;124m)\u001b[39m\u001b[38;5;124m\"\u001b[39m)\n",
      "\u001b[0;31mValueError\u001b[0m: Unrecognized data type: x=[[0, 0], [0, 1], [1, 0], [1, 1]] (of type <class 'list'>)"
     ]
    }
   ],
   "source": [
    "# After compiling the model we are able to start the training using the 'fit' function. \n",
    "# We need to make use of our training dataset (X and Y).\n",
    "# We also specify the number of epochs (or iterations) the network is going to train for.\n",
    "model.fit(X, Y, epochs=1000)\n",
    "\n",
    "# from keras.models import Sequential\n",
    "# from keras.layers import Dense\n",
    "\n",
    "# # Define a simple Sequential model for demonstration\n",
    "# model = Sequential()\n",
    "# model.add(Dense(4, input_shape=(2,), activation='relu'))  # Input shape matches your data (2 features)\n",
    "# model.add(Dense(1, activation='sigmoid'))\n",
    "\n",
    "# model.compile(optimizer='adam', loss='binary_crossentropy', metrics=['accuracy'])\n",
    "\n",
    "\n",
    "# import numpy as np\n",
    "\n",
    "\n",
    "# X = [[0, 0], [0, 1], [1, 0], [1, 1]]\n",
    "# Y = [[0], [1], [1], [0]]\n",
    "\n",
    "\n",
    "# X = np.array(X)\n",
    "# Y = np.array(Y)\n",
    "\n",
    "\n",
    "# model.fit(X, Y, epochs=1000)\n"
   ]
  },
  {
   "cell_type": "markdown",
   "metadata": {},
   "source": [
    "###### After our model finished training we can test it and see how well it predicts \n",
    "model.predict(X)"
   ]
  },
  {
   "cell_type": "code",
   "execution_count": null,
   "metadata": {},
   "outputs": [],
   "source": []
  }
 ],
 "metadata": {
  "interpreter": {
   "hash": "4abaeb3a57bf4244bbca625b90f7d8472cb60582770265c9058212119fa7bfad"
  },
  "kernelspec": {
   "display_name": "Python 3 (ipykernel)",
   "language": "python",
   "name": "python3"
  },
  "language_info": {
   "codemirror_mode": {
    "name": "ipython",
    "version": 3
   },
   "file_extension": ".py",
   "mimetype": "text/x-python",
   "name": "python",
   "nbconvert_exporter": "python",
   "pygments_lexer": "ipython3",
   "version": "3.12.4"
  }
 },
 "nbformat": 4,
 "nbformat_minor": 4
}
