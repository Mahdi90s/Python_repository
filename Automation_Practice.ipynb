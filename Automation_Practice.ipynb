{
 "cells": [
  {
   "cell_type": "code",
   "execution_count": 12,
   "metadata": {},
   "outputs": [
    {
     "name": "stdout",
     "output_type": "stream",
     "text": [
      "Collecting webdriver-manager\n",
      "  Downloading webdriver_manager-4.0.2-py2.py3-none-any.whl.metadata (12 kB)\n",
      "Requirement already satisfied: requests in /home/micheal/anaconda3/lib/python3.12/site-packages (from webdriver-manager) (2.32.2)\n",
      "Requirement already satisfied: python-dotenv in /home/micheal/anaconda3/lib/python3.12/site-packages (from webdriver-manager) (0.21.0)\n",
      "Requirement already satisfied: packaging in /home/micheal/anaconda3/lib/python3.12/site-packages (from webdriver-manager) (23.2)\n",
      "Requirement already satisfied: charset-normalizer<4,>=2 in /home/micheal/anaconda3/lib/python3.12/site-packages (from requests->webdriver-manager) (2.0.4)\n",
      "Requirement already satisfied: idna<4,>=2.5 in /home/micheal/anaconda3/lib/python3.12/site-packages (from requests->webdriver-manager) (3.7)\n",
      "Requirement already satisfied: urllib3<3,>=1.21.1 in /home/micheal/anaconda3/lib/python3.12/site-packages (from requests->webdriver-manager) (2.2.2)\n",
      "Requirement already satisfied: certifi>=2017.4.17 in /home/micheal/anaconda3/lib/python3.12/site-packages (from requests->webdriver-manager) (2024.8.30)\n",
      "Downloading webdriver_manager-4.0.2-py2.py3-none-any.whl (27 kB)\n",
      "Installing collected packages: webdriver-manager\n",
      "Successfully installed webdriver-manager-4.0.2\n"
     ]
    }
   ],
   "source": [
    "import pyinputplus\n",
    "import requests\n",
    "from bs4 import BeautifulSoup\n",
    "!pip install webdriver-manager\n"
   ]
  },
  {
   "cell_type": "code",
   "execution_count": 20,
   "metadata": {},
   "outputs": [
    {
     "name": "stdout",
     "output_type": "stream",
     "text": [
      "Mary 25 P\n",
      "John 32 P\n",
      "Dylan 19 F\n",
      "Julia 23 F\n",
      "Chad 17 F\n",
      "Jack 20 F\n",
      "Hailey 26 P\n",
      "Iris 23 P\n",
      "Jacob 29 P\n",
      "Jalen 37 F\n",
      "Anthony 47 F\n",
      "Jamie 26 P\n",
      "Sydney 19 F\n",
      "Chloe 21 P\n",
      "Natalie 29 P\n",
      "David 23 P\n",
      "Mario 51 P\n",
      "Jenna 28 F\n",
      "Josh 39 P\n",
      "Damean 42 F\n",
      "Zach 19 F\n",
      "Kayla 28 P\n",
      "Ben 14 F\n",
      "Hunter 61 P\n",
      "Albert 29 F\n",
      "Lauren 31 F\n",
      "Erica 16 P\n",
      "Kyle 19 P\n",
      "Jordan 29 F\n",
      "Kaleb 47 F\n",
      "Rosanna 45 P\n",
      "Joy 28 P\n",
      "Bill 29 F\n",
      "Jim 67 P\n",
      "Robin 24 F\n",
      "Sansa 28 P\n",
      "Juan 73 P\n",
      "Colin 59 P\n",
      "Jake 8 F\n",
      "Kate 58 P\n",
      "Jade 26 P\n",
      "River 29 P\n",
      "Chris 31 P\n",
      "Grace 18 F\n"
     ]
    }
   ],
   "source": [
    "inputFile = open (\"/home/micheal/Documents/Python_Library/Teaching_File/Ex_Files_Using_Python_for_Automation/Exercise Files/inputFile.txt\", \"r\")\n",
    "print(inputFile.read())\n",
    "inputFile.close()"
   ]
  },
  {
   "cell_type": "code",
   "execution_count": 22,
   "metadata": {},
   "outputs": [
    {
     "name": "stdout",
     "output_type": "stream",
     "text": [
      "Mary 25 P\n",
      "\n",
      "John 32 P\n",
      "\n",
      "Hailey 26 P\n",
      "\n",
      "Iris 23 P\n",
      "\n",
      "Jacob 29 P\n",
      "\n",
      "Jamie 26 P\n",
      "\n",
      "Chloe 21 P\n",
      "\n",
      "Natalie 29 P\n",
      "\n",
      "David 23 P\n",
      "\n",
      "Mario 51 P\n",
      "\n",
      "Josh 39 P\n",
      "\n",
      "Kayla 28 P\n",
      "\n",
      "Hunter 61 P\n",
      "\n",
      "Erica 16 P\n",
      "\n",
      "Kyle 19 P\n",
      "\n",
      "Rosanna 45 P\n",
      "\n",
      "Joy 28 P\n",
      "\n",
      "Jim 67 P\n",
      "\n",
      "Sansa 28 P\n",
      "\n",
      "Juan 73 P\n",
      "\n",
      "Colin 59 P\n",
      "\n",
      "Kate 58 P\n",
      "\n",
      "Jade 26 P\n",
      "\n",
      "River 29 P\n",
      "\n",
      "Chris 31 P\n",
      "\n"
     ]
    }
   ],
   "source": [
    "inputFile = open (\"/home/micheal/Documents/Python_Library/Teaching_File/Ex_Files_Using_Python_for_Automation/Exercise Files/inputFile.txt\", \"r\")\n",
    "for line in inputFile:\n",
    "    line_split = line.split()\n",
    "    if line_split[2] == 'P':\n",
    "        print(line)\n",
    "inputFile.close()"
   ]
  },
  {
   "cell_type": "code",
   "execution_count": 24,
   "metadata": {},
   "outputs": [],
   "source": [
    "inputFile = open (\"/home/micheal/Documents/Python_Library/Teaching_File/Ex_Files_Using_Python_for_Automation/Exercise Files/inputFile.txt\", \"r\")\n",
    "passFile = open (\"/home/micheal/Documents/Python_Library/Teaching_File/Ex_Files_Using_Python_for_Automation/Exercise Files/passFile.txt\", \"w\")\n",
    "failFile = open (\"/home/micheal/Documents/Python_Library/Teaching_File/Ex_Files_Using_Python_for_Automation/Exercise Files/failFile.txt\", \"w\")\n",
    "\n",
    "for line in inputFile:\n",
    "    line_split = line.split()\n",
    "    if line_split[2] == \"P\":\n",
    "        passFile.write(line)\n",
    "    else:\n",
    "        failFile.write(line)\n",
    "\n",
    "inputFile.close()\n",
    "passFile.close()\n",
    "failFile.close()"
   ]
  },
  {
   "cell_type": "code",
   "execution_count": null,
   "metadata": {},
   "outputs": [],
   "source": []
  }
 ],
 "metadata": {
  "kernelspec": {
   "display_name": "base",
   "language": "python",
   "name": "python3"
  },
  "language_info": {
   "codemirror_mode": {
    "name": "ipython",
    "version": 3
   },
   "file_extension": ".py",
   "mimetype": "text/x-python",
   "name": "python",
   "nbconvert_exporter": "python",
   "pygments_lexer": "ipython3",
   "version": "3.12.4"
  }
 },
 "nbformat": 4,
 "nbformat_minor": 2
}
